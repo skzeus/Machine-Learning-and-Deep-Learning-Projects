{
  "cells": [
    {
      "cell_type": "markdown",
      "id": "37eb1f5d-41ec-4060-9f20-c28c37ec2b05",
      "metadata": {
        "deletable": false,
        "editable": false,
        "id": "37eb1f5d-41ec-4060-9f20-c28c37ec2b05",
        "nbgrader": {
          "checksum": "836395fd7ebd63e9652dc2c2beac3c8c",
          "grade": false,
          "grade_id": "cell-341078e8dde7e0e6",
          "locked": true,
          "schema_version": 3,
          "solution": false,
          "task": false
        }
      },
      "source": [
        "# Text Generation using LSTM\n",
        "\n",
        "### Objective\n",
        "In this project, I will implement a character-level text generation model using Long Short-Term Memory (LSTM) networks in PyTorch. The goal is to understand how LSTMs work for sequential data and how to train them effectively to generate new text based on an input sequence.\n",
        "\n",
        "I will follow the steps below:\n",
        "1. Load and preprocess a text dataset\n",
        "2. Character-level encoding by constructing the vocabulary and dictionary\n",
        "3. Batch generation for training \n",
        "4. Defining the character-level LSTM model \n",
        "5. Training loop\n",
        "6. Text generation using the trained model"
      ]
    },
    {
      "cell_type": "code",
      "execution_count": 1,
      "id": "e84bca02-56b3-446d-a2b3-a35bcdfc0d34",
      "metadata": {
        "id": "e84bca02-56b3-446d-a2b3-a35bcdfc0d34"
      },
      "outputs": [],
      "source": [
        "skip_training = False   # You can set it to True if you want to run inference on your trained model."
      ]
    },
    {
      "cell_type": "markdown",
      "id": "598c309a-1cb0-490b-8eb3-8c0ad9441d32",
      "metadata": {
        "deletable": false,
        "editable": false,
        "id": "598c309a-1cb0-490b-8eb3-8c0ad9441d32",
        "nbgrader": {
          "checksum": "31eca098bf738ae87c126a8dd4a7b28d",
          "grade": false,
          "grade_id": "cell-22ac2dd116c986e6",
          "locked": true,
          "schema_version": 3,
          "solution": false,
          "task": false
        }
      },
      "source": [
        "### Import the necessary libraries"
      ]
    },
    {
      "cell_type": "code",
      "execution_count": 3,
      "id": "e1996f4f-0290-4073-8f7a-47a30ea8d7c5",
      "metadata": {
        "deletable": false,
        "editable": false,
        "id": "e1996f4f-0290-4073-8f7a-47a30ea8d7c5",
        "nbgrader": {
          "checksum": "fd6566ff374217876145e2ff34a74cae",
          "grade": false,
          "grade_id": "cell-8d754ffa5b6f36a3",
          "locked": true,
          "schema_version": 3,
          "solution": false,
          "task": false
        }
      },
      "outputs": [],
      "source": [
        "import random\n",
        "import re\n",
        "\n",
        "import numpy as np\n",
        "import torch\n",
        "import torch.nn as nn\n",
        "import torch.nn.functional as F\n",
        "import torch.optim as optim\n",
        "from tqdm import tqdm"
      ]
    },
    {
      "cell_type": "code",
      "execution_count": 4,
      "id": "af7e51e7-1322-4e83-b9e8-4734601a2c32",
      "metadata": {
        "colab": {
          "base_uri": "https://localhost:8080/"
        },
        "id": "af7e51e7-1322-4e83-b9e8-4734601a2c32",
        "outputId": "0efa4ec1-833b-4ae7-c105-1d8debd20697"
      },
      "outputs": [
        {
          "name": "stdout",
          "output_type": "stream",
          "text": [
            "cuda\n"
          ]
        }
      ],
      "source": [
        "device = torch.device('cuda' if torch.cuda.is_available() else 'cpu')\n",
        "print(device)"
      ]
    },
    {
      "cell_type": "markdown",
      "id": "66259c62-2979-4b9f-ad1f-bbc76e5bbd29",
      "metadata": {
        "deletable": false,
        "editable": false,
        "id": "66259c62-2979-4b9f-ad1f-bbc76e5bbd29",
        "nbgrader": {
          "checksum": "e3f0f3acc67cf1db9005351e946bee4c",
          "grade": false,
          "grade_id": "cell-918dec79c2334ca9",
          "locked": true,
          "schema_version": 3,
          "solution": false,
          "task": false
        }
      },
      "source": [
        "### 1. Load and Preprocess the Text Dataset\n",
        "\n",
        "We will be using *Alice's Adventures in Wonderland* by Lewis Carroll as our dataset. You can download it from [Project Gutenberg](https://www.gutenberg.org/):\n",
        "\n",
        "[Alice's Adventures in Wonderland by Lewis Carroll (Project Gutenberg Page)](https://www.gutenberg.org/ebooks/11) \\\n",
        "[Direct Text File Download](https://www.gutenberg.org/files/11/11-0.txt)\n",
        "\n",
        "We’ve chosen Alice's Adventures in Wonderland as a relatively small text to make training still manageable on a CPU. \n",
        "This section contains the following steps:\n",
        "1. Load the dataset into Python\n",
        "2. Remove metadata to focus on the main part of the text\n",
        "3. Clean the text by removing special characters and converting it to lowercase\n",
        "   \n",
        "The goal is to preprocess the dataset by filtering out any metadata that is not part of the text, converting the text to lowercase, and removing unnecessary punctuation. We will also build a dictionary to map each unique character to a unique integer."
      ]
    },
    {
      "cell_type": "markdown",
      "id": "07811d19-7527-445c-9fa3-0a423ab22f77",
      "metadata": {
        "deletable": false,
        "editable": false,
        "id": "07811d19-7527-445c-9fa3-0a423ab22f77",
        "nbgrader": {
          "checksum": "f06c5177f35d548718750d8eed3f43c2",
          "grade": false,
          "grade_id": "cell-0e71c281d4cb17c5",
          "locked": true,
          "schema_version": 3,
          "solution": false,
          "task": false
        }
      },
      "source": [
        "#### 1.1. Load the Dataset\n",
        "\n",
        "We start by loading the text dataset into Python. The dataset should be a plain text file. The first step is to load and inspect a small portion of the raw text to understand its structure to identify any unwanted metadata or special characters that should be removed during preprocessing."
      ]
    },
    {
      "cell_type": "code",
      "execution_count": 5,
      "id": "39b5e555-045e-4f8f-8150-0f0b69cce823",
      "metadata": {
        "id": "39b5e555-045e-4f8f-8150-0f0b69cce823"
      },
      "outputs": [],
      "source": [
        "txt_path = '/content/alice.txt' # replace 'alice.txt' with your txt path"
      ]
    },
    {
      "cell_type": "code",
      "execution_count": 6,
      "id": "f1536e4c-1437-432f-b332-ee9e366f34b7",
      "metadata": {
        "colab": {
          "base_uri": "https://localhost:8080/"
        },
        "id": "f1536e4c-1437-432f-b332-ee9e366f34b7",
        "outputId": "2cf48b2f-89c3-4799-ef4f-e8756dd2221e"
      },
      "outputs": [
        {
          "name": "stdout",
          "output_type": "stream",
          "text": [
            "===First 1500 characters before any processing:\n",
            "\n",
            "\n",
            "*** START OF THE PROJECT GUTENBERG EBOOK 11 ***\n",
            "[Illustration]\n",
            "\n",
            "\n",
            "\n",
            "\n",
            "Alice’s Adventures in Wonderland\n",
            "\n",
            "by Lewis Carroll\n",
            "\n",
            "THE MILLENNIUM FULCRUM EDITION 3.0\n",
            "\n",
            "Contents\n",
            "\n",
            " CHAPTER I.     Down the Rabbit-Hole\n",
            " CHAPTER II.    The Pool of Tears\n",
            " CHAPTER III.   A Caucus-Race and a Long Tale\n",
            " CHAPTER IV.    The Rabbit Sends in a Little Bill\n",
            " CHAPTER V.     Advice from a Caterpillar\n",
            " CHAPTER VI.    Pig and Pepper\n",
            " CHAPTER VII.   A Mad Tea-Party\n",
            " CHAPTER VIII.  The Queen’s Croquet-Ground\n",
            " CHAPTER IX.    The Mock Turtle’s Story\n",
            " CHAPTER X.     The Lobster Quadrille\n",
            " CHAPTER XI.    Who Stole the Tarts?\n",
            " CHAPTER XII.   Alice’s Evidence\n",
            "\n",
            "\n",
            "\n",
            "\n",
            "CHAPTER I.\n",
            "Down the Rabbit-Hole\n",
            "\n",
            "\n",
            "Alice was beginning to get very tired of sitting by her sister on the\n",
            "bank, and of having nothing to do: once or twice she had peeped into\n",
            "the book her sister was reading, but it had no pictures or\n",
            "conversations in it, “and what is the use of a book,” thought Alice\n",
            "“without pictures or conversations?”\n",
            "\n",
            "So she was considering in her own mind (as well as she could, for the\n",
            "hot day made her feel very sleepy and stupid), whether the pleasure of\n",
            "making a daisy-chain would be worth the trouble of getting up and\n",
            "picking the daisies, when suddenly a White Rabbit with pink eyes ran\n",
            "close by her.\n",
            "\n",
            "There was nothing so _very_ remarkable in that; nor did Alice think it\n",
            "so _very_ much out of the way to hear the Rabbit say to itself, “Oh\n",
            "dear! Oh dear! I shall be late!” (when she thought it over afterwards,\n",
            "it occurred to her that she o\n",
            "\n",
            "\n",
            "\n",
            "===Ending characters before any processing:\n",
            "\n",
            ".\n",
            "\n",
            "On this the White Rabbit blew three blasts on the trumpet, and then\n",
            "unrolled the parchment scroll, and read as follows:—\n",
            "\n",
            "“The Queen of Hearts, she made some tarts,\n",
            "    All on a summer day:\n",
            "The Knave of Hearts, he stole those tarts,\n",
            "    And took them quite away!”\n",
            "\n",
            "\n",
            "“Consider your verdict,” the King said to the jury.\n",
            "\n",
            "“Not yet, not yet!” the Rabbit hastily interrupted. “There’s a great\n",
            "deal to come before that!”\n",
            "\n",
            "“Call the first witness,” said the King; and the White Rabbit blew\n",
            "three blasts on the trumpet, and called out, “First witness!”\n",
            "\n",
            "The first witness was the Hatter. He came in with a teacup in one hand\n",
            "and a piece of bread-and-butter in the other. “I beg pardon, your\n",
            "Majesty,” he began, “for bringing these in: but I hadn’t quite finished\n",
            "my tea when I was sent for.”\n",
            "\n",
            "“You ought to have finished,” said the King. “When did you begin?”\n",
            "\n",
            "The Hatter looked at the March Hare, who had followed him into the\n",
            "court, arm-in-arm with the Dormouse. “Fourteenth of March, I _think_ it\n",
            "was,” he said.\n",
            "\n",
            "“Fifteenth,” said the March Hare.\n",
            "\n",
            "“Sixteenth,” added the Dormouse.\n",
            "\n",
            "“Write that down,” the King said to the jury, and the jury eagerly\n",
            "wrote down all three dates on their slates, and then added them up, and\n",
            "reduced the answer to shillings and pence.\n",
            "\n",
            "“Take off your hat,” the King said to the Hatter.\n",
            "\n",
            "“It isn’t mine,” said the Hatter.\n",
            "\n",
            "“_Stolen!_” the King exclaimed, turning to the jury, who instantly made\n",
            "a memorandum of the fact.\n",
            "\n",
            "“I keep them to sell,” the Hatter added as an explanation; “I’ve none\n",
            "of my own. I’m a hatter.”\n",
            "\n",
            "Here the Queen put on her spectacles, and began staring at the Hatter,\n",
            "who turned pale and fidgeted.\n",
            "\n",
            "“Give your evidence,” said the King; “and don’t be nervous, or I’ll\n",
            "have you executed on the spot.”\n",
            "\n",
            "This did not seem to encourage the witness at all: he kept shifting\n",
            "from one foot to the other, looking uneasily at the Queen, and in his\n",
            "confusion he bit a large piece out of his teacup instead of the\n",
            "bread-and-butter.\n",
            "\n",
            "Just at this moment Alice felt \n"
          ]
        }
      ],
      "source": [
        "with open(txt_path, 'r') as file:\n",
        "    raw_text = file.read()\n",
        "\n",
        "print('===First 1500 characters before any processing:\\n\\n')\n",
        "print(raw_text[:1500])\n",
        "\n",
        "print('\\n\\n\\n===Ending characters before any processing:\\n')\n",
        "print(raw_text[-19000:-17000])"
      ]
    },
    {
      "cell_type": "markdown",
      "id": "32bfef24-0842-427c-aa49-2f01f36b8ff0",
      "metadata": {
        "deletable": false,
        "editable": false,
        "id": "32bfef24-0842-427c-aa49-2f01f36b8ff0",
        "nbgrader": {
          "checksum": "0496274c867d0502435d160f36c14010",
          "grade": false,
          "grade_id": "cell-100dde1181de781c",
          "locked": true,
          "schema_version": 3,
          "solution": false,
          "task": false
        }
      },
      "source": [
        "#### 1.2. Remove Metadata and Focus on the Main Text\n",
        "\n",
        "Text files may contain introductary or ending metadata such as copyright information. We want to focus only on the main body of the text. For Alice's Adventures in Wonderland, we remove everything before the first chapter and after the Project Gutenberg closing markers."
      ]
    },
    {
      "cell_type": "code",
      "execution_count": 7,
      "id": "6fce77de-0ccd-40b1-ac63-3ebff4c9f8ab",
      "metadata": {
        "colab": {
          "base_uri": "https://localhost:8080/"
        },
        "id": "6fce77de-0ccd-40b1-ac63-3ebff4c9f8ab",
        "outputId": "bd0cd6b6-2c90-480f-c7be-555fc4442814"
      },
      "outputs": [
        {
          "name": "stdout",
          "output_type": "stream",
          "text": [
            "===Text after removing metadata:\n",
            "\n",
            "CHAPTER I.\n",
            "Down the Rabbit-Hole\n",
            "\n",
            "\n",
            "Alice was beginning to get very tired of sitting by her sister on the\n",
            "bank, and of having nothing to do: once or twice she had peeped into\n",
            "the book her sister was reading, but it had no pictures or\n",
            "conversations in it, “and what is the use of a book,” thought Alice\n",
            "“without pictures or conversations?”\n",
            "\n",
            "So she was considering in her own mind (as well as she could, for the\n",
            "hot day made her feel very sleepy and stupid), whether the pleasure of\n",
            "making a daisy-chain would be worth the trouble of getting up and\n",
            "picking the daisies, when suddenly a White Rabbit with pink eyes ran\n",
            "close by her.\n",
            "\n",
            "There was nothing so _very_ remarkable in that; nor did Alice think it\n",
            "so _very_ much out of the way to hear the Rabbit say to itself, “Oh\n",
            "dear! Oh dear! I shall be late!” (when she thought it over afterwards,\n",
            "it occurred to her that she ought to have wondered at this, but at the\n",
            "time it all seemed quite natural); but when the Rabbit actually _took a\n",
            "watch out of its waistcoat-pocket_, and looked at it, and then hurried\n",
            "on, Alice started to her feet, for it flashed across her mind that she\n",
            "had never before seen a rabbit with either a waistcoat-pocket, or a\n",
            "watch to take out of it, and burning with curiosity, she ran across the\n",
            "field after it, and fortunately was just in time to see it pop down a\n",
            "large rabbit-hole under the hedge.\n",
            "\n",
            "In another moment down went Alice after it, never once considering how\n",
            "in the world she was to get out again.\n",
            "\n",
            "The rabbit-hole wen\n"
          ]
        }
      ],
      "source": [
        "# For this example, we are removing everything before 'CHAPTER I.\\nDown the Rabbit-Hole'\n",
        "# and after the end marker\n",
        "start_index = raw_text.find('CHAPTER I.\\nDown the Rabbit-Hole')\n",
        "\n",
        "end_index = raw_text.find('*** END OF THE PROJECT GUTENBERG') # closing markers of Project Gutenberg\n",
        "\n",
        "trimmed_text = raw_text[start_index:end_index]\n",
        "\n",
        "print('===Text after removing metadata:\\n')\n",
        "print(trimmed_text[:1500])"
      ]
    },
    {
      "cell_type": "markdown",
      "id": "607662e4-b640-4aeb-9bf6-3ee5fca989ab",
      "metadata": {
        "deletable": false,
        "editable": false,
        "id": "607662e4-b640-4aeb-9bf6-3ee5fca989ab",
        "nbgrader": {
          "checksum": "d9b89e7035c671d5a4ac7fbed1f53d92",
          "grade": false,
          "grade_id": "cell-ee8493145fa5be43",
          "locked": true,
          "schema_version": 3,
          "solution": false,
          "task": false
        }
      },
      "source": [
        "#### 1.3. Clean the Text\n",
        "\n",
        "Next, we preprocess the text by removing any special characters, leaving only alphanumeric characters, and normalizing spaces. We also convert all text to lowercase to standardize the format. This helps the model learn without case sensitivity or irrelevant symbols.\n",
        "\n",
        "##### Steps to follow:\n",
        "##### 1. Convert text to lowercase:\n",
        "First, convert the text to lowercase to avoid treating uppercase and lowercase letters as different characters.\n",
        "##### 2. Remove special characters:\n",
        "Then, you need to remove any character that is not a letter `(a-z)`, a number `(0-9)`, or a space `\\s`.\n",
        "##### 3. Handling double spaces:\n",
        "After removing characters, there may be extra spaces in the text. Make sure that sequences of multiple spaces are reduced to just a single space.\n"
      ]
    },
    {
      "cell_type": "code",
      "execution_count": 8,
      "id": "f910909e-acba-45f9-ac49-41c0d3432129",
      "metadata": {
        "colab": {
          "base_uri": "https://localhost:8080/"
        },
        "deletable": false,
        "id": "f910909e-acba-45f9-ac49-41c0d3432129",
        "nbgrader": {
          "checksum": "1f65b86777609239806c103b9d5d4933",
          "grade": false,
          "grade_id": "cell-6e2568640b9031df",
          "locked": false,
          "schema_version": 3,
          "solution": true,
          "task": false
        },
        "outputId": "a3d901a8-60f9-412d-f5a4-708b458f8e1c"
      },
      "outputs": [
        {
          "name": "stdout",
          "output_type": "stream",
          "text": [
            "Text after cleaning and converting to lowercase:\n",
            "\n",
            "chapter i down the rabbit hole alice was beginning to get very tired of sitting by her sister on the bank and of having nothing to do once or twice she had peeped into the book her sister was reading but it had no pictures or conversations in it and what is the use of a book thought alice without pictures or conversations so she was considering in her own mind as well as she could for the hot day made her feel very sleepy and stupid whether the pleasure of making a daisy chain would be worth the trouble of getting up and picking the daisies when suddenly a white rabbit with pink eyes ran close by her there was nothing so very remarkable in that nor did alice think it so very much out of the way to hear the rabbit say to itself oh dear oh dear i shall be late when she thought it over afterwards it occurred to her that she ought to have wondered at this but at the time it all seemed quite natural but when the rabbit actually took a watch out of its waistcoat pocket and looked at it and t\n"
          ]
        }
      ],
      "source": [
        "def preprocess_text(text):\n",
        "    \"\"\"\n",
        "    Preprocesses the input text by i. converting it to lowercase,\n",
        "    ii. removing non-alphanumeric characters (except spaces),\n",
        "    iii. and normalizing spaces.\n",
        "\n",
        "    Args:\n",
        "    text -- The raw input text as a string\n",
        "\n",
        "    Returns:\n",
        "    cleaned_text -- The processed text where all the preprocessing steps are applied\n",
        "    \"\"\"\n",
        "    # 1. Convert text to lowercase\n",
        "    # 2. Remove special characters\n",
        "    # 3. Remove double spaces\n",
        "\n",
        "    # YOUR CODE HERE\n",
        "    # 1. Convert text to lowercase\n",
        "    text = re.sub(r\"[A-Z]\", lambda match: match.group().lower(), text)\n",
        "\n",
        "    # 2. Remove special characters\n",
        "    text = re.sub(r\"[^a-z0-9\\s]\", \" \", text)\n",
        "\n",
        "    # 3. Remove double spaces\n",
        "    cleaned_text = re.sub(r\"\\s+\", \" \", text)\n",
        "\n",
        "    return cleaned_text\n",
        "\n",
        "cleaned_text = preprocess_text(trimmed_text)\n",
        "print('Text after cleaning and converting to lowercase:\\n')\n",
        "print(cleaned_text[:1000])\n"
      ]
    },
    {
      "cell_type": "code",
      "execution_count": 9,
      "id": "d0fb4f05-4e01-470f-8eea-48eae61d583d",
      "metadata": {
        "colab": {
          "base_uri": "https://localhost:8080/"
        },
        "deletable": false,
        "editable": false,
        "id": "d0fb4f05-4e01-470f-8eea-48eae61d583d",
        "nbgrader": {
          "checksum": "e3fcb0d79f5043c2fef897c538ea2fe1",
          "grade": true,
          "grade_id": "cell-ebcbbe0e37ef8dae",
          "locked": true,
          "points": 0,
          "schema_version": 3,
          "solution": false,
          "task": false
        },
        "outputId": "e661e5c2-0eb7-4a5b-b9a5-b9eb7f062c24"
      },
      "outputs": [
        {
          "name": "stdout",
          "output_type": "stream",
          "text": [
            "Text cleaning test passed successfully!\n"
          ]
        }
      ],
      "source": [
        "def test_text_cleaning(text, cleaned_text):\n",
        "    \"\"\"\n",
        "    Test whether the text has been properly cleaned.\n",
        "\n",
        "    Args:\n",
        "    text -- Original raw text\n",
        "    cleaned_text -- The cleaned text\n",
        "\n",
        "    Returns:\n",
        "    Assertion errors if tests fail\n",
        "    \"\"\"\n",
        "    # Test 1: Check if the text length is reduced\n",
        "    assert len(cleaned_text) < len(text), 'Error: The cleaned text should be shorter than the original raw text.'\n",
        "\n",
        "    # Test 2: All characters should be lowercase\n",
        "    assert cleaned_text.islower(), 'Error: The cleaned text is not fully lowercase.'\n",
        "\n",
        "    # Test 3: Ensure all special characters are removed\n",
        "    assert all(char.isalnum() or char == ' ' for char in cleaned_text), 'Error: Special characters are still present in the cleaned text.'\n",
        "\n",
        "    # Test 4: Ensure no consecutive spaces exist\n",
        "    assert \"  \" not in cleaned_text, 'Error: There are multiple consecutive spaces in the cleaned text.'\n",
        "\n",
        "    print('Text cleaning test passed successfully!')\n",
        "\n",
        "test_text_cleaning(raw_text, cleaned_text)"
      ]
    },
    {
      "cell_type": "markdown",
      "id": "e7b05133-4168-459e-8e36-2ec88d2ad51d",
      "metadata": {
        "deletable": false,
        "editable": false,
        "id": "e7b05133-4168-459e-8e36-2ec88d2ad51d",
        "nbgrader": {
          "checksum": "6a920af1dea881be0da01e7f1013c338",
          "grade": false,
          "grade_id": "cell-ae2039f6bc91f976",
          "locked": true,
          "schema_version": 3,
          "solution": false,
          "task": false
        }
      },
      "source": [
        "### 2. Character-Level Encoding\n",
        "\n",
        "In this step, we convert the cleaned text into a format that the model can understand. Since we are working with character-level encoding, each individual character will be treated as a token. This allows the LSTM to learn patterns at the character level and generate text one character at a time.\n",
        "\n"
      ]
    },
    {
      "cell_type": "markdown",
      "id": "4a820382-8e61-4d1c-a0b5-588d81b58320",
      "metadata": {
        "deletable": false,
        "editable": false,
        "id": "4a820382-8e61-4d1c-a0b5-588d81b58320",
        "nbgrader": {
          "checksum": "bc5b454add8e5408a13c0010452fe78a",
          "grade": false,
          "grade_id": "cell-02de74b25a6da964",
          "locked": true,
          "schema_version": 3,
          "solution": false,
          "task": false
        }
      },
      "source": [
        "#### 2.1 Character-Level Vocabulary\n",
        "\n",
        "In this section, I will create a vocabulary from the cleaned text and map each element to a unique integer.\n",
        "\n",
        "##### Steps to follow:\n",
        "##### 1. Create a vocabulary of unique characters:\n",
        "First, I extract all the unique characters from the cleaned text.\n",
        "##### 2. Construct mapping between characters and integers:\n",
        "Once I have the unique characters, I create a dictionary `char_to_int` that maps each character to a unique integer to represent each character during training. I also create a reverse mapping `int_to_char` that maps integers back to characters to be used when decoding the text later.\n"
      ]
    },
    {
      "cell_type": "code",
      "execution_count": 11,
      "id": "64011399-7d6d-4cb3-89e8-fa65653a5a72",
      "metadata": {
        "colab": {
          "base_uri": "https://localhost:8080/"
        },
        "deletable": false,
        "id": "64011399-7d6d-4cb3-89e8-fa65653a5a72",
        "nbgrader": {
          "checksum": "02558911a39ac511871aa6e2c60fe160",
          "grade": false,
          "grade_id": "cell-d2e35b87ae8fa70e",
          "locked": false,
          "schema_version": 3,
          "solution": true,
          "task": false
        },
        "outputId": "d56f4b6e-322e-43db-872f-712098736bc2"
      },
      "outputs": [
        {
          "name": "stdout",
          "output_type": "stream",
          "text": [
            "Character to Integer Mapping:\n",
            "' ' : 0\n",
            "'a' : 1\n",
            "'b' : 2\n",
            "'c' : 3\n",
            "'d' : 4\n",
            "'e' : 5\n",
            "'f' : 6\n",
            "'g' : 7\n",
            "'h' : 8\n",
            "'i' : 9\n",
            "'j' : 10\n",
            "'k' : 11\n",
            "'l' : 12\n",
            "'m' : 13\n",
            "'n' : 14\n",
            "'o' : 15\n",
            "'p' : 16\n",
            "'q' : 17\n",
            "'r' : 18\n",
            "'s' : 19\n",
            "'t' : 20\n",
            "'u' : 21\n",
            "'v' : 22\n",
            "'w' : 23\n",
            "'x' : 24\n",
            "'y' : 25\n",
            "'z' : 26\n"
          ]
        }
      ],
      "source": [
        "def create_char_mappings(cleaned_text):\n",
        "    \"\"\"\n",
        "    Creates character-to-integer and integer-to-character mappings from the cleaned text.\n",
        "\n",
        "    Args:\n",
        "    cleaned_text -- The cleaned input text as a string\n",
        "\n",
        "    Returns:\n",
        "    char_to_int -- A dictionary mapping each unique character to an integer\n",
        "    int_to_char -- A dictionary mapping each integer back to its corresponding character\n",
        "    \"\"\"\n",
        "    # YOUR CODE HERE\n",
        "    # Extract unique characters and sort them\n",
        "    unique_chars = sorted(set(cleaned_text))\n",
        "    char_to_int = {char: idx for idx, char in enumerate(unique_chars)}\n",
        "    int_to_char = {idx: char for idx, char in enumerate(unique_chars)}\n",
        "\n",
        "    return char_to_int, int_to_char\n",
        "\n",
        "char_to_int, int_to_char = create_char_mappings(cleaned_text)\n",
        "print('Character to Integer Mapping:')\n",
        "for char, idx in list(char_to_int.items()):\n",
        "    print(f\"'{char}' : {idx}\")"
      ]
    },
    {
      "cell_type": "markdown",
      "id": "c33f28d5-de30-4ffc-99cd-ee43a15926f8",
      "metadata": {
        "deletable": false,
        "editable": false,
        "id": "c33f28d5-de30-4ffc-99cd-ee43a15926f8",
        "nbgrader": {
          "checksum": "5bd13e000e8dca85b863d1014c17d836",
          "grade": false,
          "grade_id": "cell-d3a464179b6eeffb",
          "locked": true,
          "schema_version": 3,
          "solution": false,
          "task": false
        }
      },
      "source": [
        "#### 2.2 Encode the Text into Integers\n",
        "\n",
        "During training, the model will use the encoded representation of the cleaned text as the input. In this section, I convert each character in the cleaned text to its corresponding integer using `char_to_int` dictionary."
      ]
    },
    {
      "cell_type": "code",
      "execution_count": 12,
      "id": "8bc5efdc-fb21-42c1-92a0-cf559a4b3eea",
      "metadata": {
        "colab": {
          "base_uri": "https://localhost:8080/"
        },
        "deletable": false,
        "id": "8bc5efdc-fb21-42c1-92a0-cf559a4b3eea",
        "nbgrader": {
          "checksum": "e96be03cbe08258b1a8bb2a4e3e23b20",
          "grade": false,
          "grade_id": "cell-82f52b40eea42a5c",
          "locked": false,
          "schema_version": 3,
          "solution": true,
          "task": false
        },
        "outputId": "32ac6f0f-9134-4c61-b7aa-067a1515b80f"
      },
      "outputs": [
        {
          "name": "stdout",
          "output_type": "stream",
          "text": [
            "First 100 encoded characters:\n",
            "[ 3  8  1 16 20  5 18  0  9  0  4 15 23 14  0 20  8  5  0 18  1  2  2  9\n",
            " 20  0  8 15 12  5  0  1 12  9  3  5  0 23  1 19  0  2  5  7  9 14 14  9\n",
            " 14  7  0 20 15  0  7  5 20  0 22  5 18 25  0 20  9 18  5  4  0 15  6  0\n",
            " 19  9 20 20  9 14  7  0  2 25  0  8  5 18  0 19  9 19 20  5 18  0 15 14\n",
            "  0 20  8  5]\n"
          ]
        }
      ],
      "source": [
        "def encode_text(cleaned_text, char_to_int):\n",
        "    \"\"\"\n",
        "    Encodes the cleaned text into an array of integers.\n",
        "\n",
        "    Args:\n",
        "    cleaned_text -- The cleaned input text as a string\n",
        "    char_to_int -- Characters to integer mapping\n",
        "\n",
        "    Returns:\n",
        "    encoded_chars -- Numpy array of integers representing the encoded characters from the text\n",
        "    \"\"\"\n",
        "    # YOUR CODE HERE\n",
        "    encoded_chars = np.array([char_to_int[char] for char in cleaned_text])\n",
        "    return encoded_chars\n",
        "\n",
        "encoded_chars = encode_text(cleaned_text, char_to_int)\n",
        "print('First 100 encoded characters:')\n",
        "print(encoded_chars[:100])"
      ]
    },
    {
      "cell_type": "code",
      "execution_count": 13,
      "id": "bef817ce-c1d4-4a4b-be79-486f88d9efd3",
      "metadata": {
        "colab": {
          "base_uri": "https://localhost:8080/"
        },
        "deletable": false,
        "editable": false,
        "id": "bef817ce-c1d4-4a4b-be79-486f88d9efd3",
        "nbgrader": {
          "checksum": "5ef3069843e823d65b1234eb2b32dd9e",
          "grade": true,
          "grade_id": "cell-1e1daabfb930658a",
          "locked": true,
          "points": 1,
          "schema_version": 3,
          "solution": false,
          "task": false
        },
        "outputId": "a771ca38-47ed-4a58-e6b2-2939f44052d3"
      },
      "outputs": [
        {
          "name": "stdout",
          "output_type": "stream",
          "text": [
            "Character encoding length test passed successfully!\n"
          ]
        }
      ],
      "source": [
        "def test_character_encoding_length(cleaned_text, encoded_chars, char_to_int, int_to_char):\n",
        "    \"\"\"\n",
        "    Test if there is mismatch with the sizes produces in the character encoding.\n",
        "\n",
        "    Args:\n",
        "    cleaned_text -- The cleaned text\n",
        "    encoded_chars -- The encoded character array\n",
        "    char_to_int -- Character to integer mapping\n",
        "    int_to_char -- Integer to character mapping\n",
        "\n",
        "    Returns:\n",
        "    Assertion errors if tests fail\n",
        "    \"\"\"\n",
        "    # Test 1: Ensure char_to_int and int_to_char have the same length\n",
        "    assert len(char_to_int) == len(int_to_char), 'Error: char_to_int and int_to_char dictionaries should have the same length.'\n",
        "\n",
        "    # Test 2: Ensure that the length of encoded_chars matches the length of cleaned_text\n",
        "    assert len(encoded_chars) == len(cleaned_text), 'Error: The length of encoded_chars should match the length of cleaned_text.'\n",
        "\n",
        "    print('Character encoding length test passed successfully!')\n",
        "\n",
        "test_character_encoding_length(cleaned_text, encoded_chars, char_to_int, int_to_char)"
      ]
    },
    {
      "cell_type": "markdown",
      "id": "6c011421-7952-4c8d-8217-55c04e7d608f",
      "metadata": {
        "deletable": false,
        "editable": false,
        "id": "6c011421-7952-4c8d-8217-55c04e7d608f",
        "nbgrader": {
          "checksum": "641539c878b4e707dad47e7bacdd6b7b",
          "grade": false,
          "grade_id": "cell-f6f0731068619a8c",
          "locked": true,
          "schema_version": 3,
          "solution": false,
          "task": false
        }
      },
      "source": [
        "### 3. Batch Generation for Training\n",
        "In this step, I will implement the function `get_batches()` that splits the encoded data into smaller batches for training. Each batch will have input sequences `x` and target sequences `y` where `y` is `x` shifted by one position.  This means that the model is trained to generate the next character in the sequence based on the previous ones.\n",
        "\n",
        "##### Steps to follow:\n",
        "##### 1. Handle step_size:\n",
        "The step size determines how much the window moves across the data after each sequence is generated. If `step_size` is not provided, it is set to `seq_length`. This means the sequences will not overlap. A smaller `step_size` allows for overlapping sequences.\n",
        "\n",
        "##### 2. Calculate the number of batches:\n",
        "When calculating how many batches you can generate from the input data, there are some key factors to consider:\n",
        "1. Sequence Length: Each input sequence in a batch will contain a specific number of tokens (representing the characters). The longer your sequence length is, the fewer total sequences you can generate from the input data.\n",
        "2. Step Size: A smaller step size results in more overlap between sequences and it allows you to generate more sequences from the same input. If the step size is larger, there will be less overlap (or none at all if step size equals sequence length), leading to fewer sequences in total.\n",
        "3. Batch Size: Once you generate sequences, you need to group them into batches for efficient training. The batch size defines how many sequences are grouped in each batch. A larger batch size means fewer batches because more sequences are grouped together in each batch.\n",
        "\n",
        "Make sure to generate full number of batches.\n",
        "\n",
        "##### 3. Trim the input array:\n",
        "If the input data does not perfectly divide into batches, trim the array so it contains only full batches. Avoid having incomplete sequences at the end.\n",
        "\n",
        "##### 4. Generate batches:\n",
        "Use nested loops to generate batches:\n",
        "- `x` will be the input sequence of length `seq_length`.\n",
        "- `y` will be target sequence, which is `x` shifted by one position (token).\n",
        "\n",
        "##### 5. Store and return batches:\n",
        "Store the input and target sequences in separate arrays (`x_batches` and `y_batches`) and return them as NumPy arrays to be used in training.\n",
        "\n"
      ]
    },
    {
      "cell_type": "code",
      "execution_count": 20,
      "id": "afe5f57f-0bce-428d-8d46-67d71def6237",
      "metadata": {
        "deletable": false,
        "id": "afe5f57f-0bce-428d-8d46-67d71def6237",
        "nbgrader": {
          "checksum": "0699c96caa40d8bbf23ed3a9e1d9d3b4",
          "grade": false,
          "grade_id": "cell-0c4e1828e13b2561",
          "locked": false,
          "schema_version": 3,
          "solution": true,
          "task": false
        }
      },
      "outputs": [],
      "source": [
        "def get_batches(arr, batch_size, seq_length, step_size=None):\n",
        "    \"\"\"\n",
        "    Generates batches of input and target sequences from the given array.\n",
        "\n",
        "    Args:\n",
        "        arr (array-like): Encoded text as an array of integers.\n",
        "        batch_size (int): Number of sequences per batch.\n",
        "        seq_length (int): Number of characters in each sequence.\n",
        "        step_size (int, optional): Steps to move the window for the next sequence.\n",
        "\n",
        "    Returns:\n",
        "        tuple (x_batches, y_batches): A tuple of numpy arrays of input and target sequences,\n",
        "                                      each has shape (num_batches, batch_size, seq_length)\n",
        "    \"\"\"\n",
        "    if step_size is None:\n",
        "        step_size = seq_length\n",
        "\n",
        "    # Lists that will contain the batches\n",
        "    x_batches, y_batches = [], []\n",
        "\n",
        "    # Num of sequences that we can generate\n",
        "    total_number_of_sequences = (len(arr) - seq_length) // step_size\n",
        "\n",
        "    # Calculate the number of batches\n",
        "    total_number_of_batches = total_number_of_sequences // batch_size\n",
        "\n",
        "    # Array trimming to make sure it exactly contains full batches\n",
        "    arr = arr[:total_number_of_batches * batch_size * step_size + seq_length]\n",
        "\n",
        "    # Batch Computation:\n",
        "    for i in range(total_number_of_batches):\n",
        "        batch_x, batch_y = [], []\n",
        "        for j in range(batch_size):\n",
        "            start = (i * batch_size + j) * step_size\n",
        "            end = start + seq_length\n",
        "\n",
        "            x = arr[start:end]\n",
        "            y = arr[start + 1:end + 1]  # y is simply x shifted by 1\n",
        "\n",
        "            batch_x.append(x)\n",
        "            batch_y.append(y)\n",
        "\n",
        "        x_batches.append(np.array(batch_x))\n",
        "        y_batches.append(np.array(batch_y))\n",
        "\n",
        "    x_batches = np.array(x_batches)\n",
        "    y_batches = np.array(y_batches)\n",
        "\n",
        "    return x_batches, y_batches"
      ]
    },
    {
      "cell_type": "code",
      "execution_count": 21,
      "id": "03f9d3f1-c107-4ff5-b4de-45391852d3e9",
      "metadata": {
        "colab": {
          "base_uri": "https://localhost:8080/"
        },
        "deletable": false,
        "editable": false,
        "id": "03f9d3f1-c107-4ff5-b4de-45391852d3e9",
        "nbgrader": {
          "checksum": "8d8671f1c359683db28f544bf8153fef",
          "grade": true,
          "grade_id": "cell-43090906e6301717",
          "locked": true,
          "points": 2,
          "schema_version": 3,
          "solution": false,
          "task": false
        },
        "outputId": "2151e790-c93f-4cdb-9f56-8dbccf5f4e8d"
      },
      "outputs": [
        {
          "name": "stdout",
          "output_type": "stream",
          "text": [
            "All visible tests passed successfully!\n"
          ]
        }
      ],
      "source": [
        "# Test cell\n",
        "# Test if the shape of the generated batches is correct when there is no overlap between sequences (step_size=seq_len)\n",
        "def test_batch_generation_shape_no_overlap(encoded_chars):\n",
        "    # Generate batches\n",
        "    x_batches, y_batches = get_batches(encoded_chars, batch_size=64, seq_length=100)\n",
        "\n",
        "    assert len(x_batches) == len(y_batches), 'Error: The number of x_batches and y_batches should be the same.'\n",
        "\n",
        "    # Test 2: Check the shape\n",
        "    assert x_batches.shape == (21, 64, 100), (\n",
        "        f'Error: The shape of x_batches is incorrect. Expected (21, 64, 100), but got {x_batches.shape}.'\n",
        "    )\n",
        "    assert y_batches.shape == (21, 64, 100), (\n",
        "        f'Error: The shape of y_batches is incorrect. Expected (21, 64, 100), but got {y_batches.shape}.'\n",
        "    )\n",
        "\n",
        "    print('All visible tests passed successfully!')\n",
        "\n",
        "test_batch_generation_shape_no_overlap(encoded_chars)"
      ]
    },
    {
      "cell_type": "code",
      "execution_count": 22,
      "id": "82e4d30a-6e75-4761-817d-1c8945e5f035",
      "metadata": {
        "colab": {
          "base_uri": "https://localhost:8080/"
        },
        "deletable": false,
        "editable": false,
        "id": "82e4d30a-6e75-4761-817d-1c8945e5f035",
        "nbgrader": {
          "checksum": "5d2760613777a20cc12b5273f7951c5e",
          "grade": true,
          "grade_id": "cell-180ea4210351b957",
          "locked": true,
          "points": 2,
          "schema_version": 3,
          "solution": false,
          "task": false
        },
        "outputId": "06fc5aea-afc8-4ea9-9558-07a529db4438"
      },
      "outputs": [
        {
          "name": "stdout",
          "output_type": "stream",
          "text": [
            "All visible tests passed successfully!\n"
          ]
        }
      ],
      "source": [
        "# Test cell\n",
        "# Test if the shape of the generated batches is correct when there is an overlap between sequences (step_size!=seq_len)\n",
        "def test_batch_generation_shape_overlap(encoded_chars):\n",
        "    # Generate batches\n",
        "    x_batches, y_batches = get_batches(encoded_chars, batch_size=64, seq_length=100, step_size=50)\n",
        "\n",
        "    assert len(x_batches) == len(y_batches), 'Error: The number of x_batches and y_batches should be the same.'\n",
        "\n",
        "    # Test 2: Check the shape\n",
        "    assert x_batches.shape == (42, 64, 100), (\n",
        "        f'Error: The shape of x_batches is incorrect. Expected (42, 64, 100), but got {x_batches.shape}.'\n",
        "    )\n",
        "    assert y_batches.shape == (42, 64, 100), (\n",
        "        f'Error: The shape of y_batches is incorrect. Expected (42, 64, 100), but got {y_batches.shape}.'\n",
        "    )\n",
        "\n",
        "    # If all tests pass\n",
        "    print('All visible tests passed successfully!')\n",
        "\n",
        "test_batch_generation_shape_overlap(encoded_chars)"
      ]
    },
    {
      "cell_type": "code",
      "execution_count": 23,
      "id": "c7e33b6e-b7f4-45c7-b3bc-14c80d71c4ef",
      "metadata": {
        "colab": {
          "base_uri": "https://localhost:8080/"
        },
        "id": "c7e33b6e-b7f4-45c7-b3bc-14c80d71c4ef",
        "outputId": "78e8319c-6cd2-4f19-8570-a41ad3b2f380"
      },
      "outputs": [
        {
          "name": "stdout",
          "output_type": "stream",
          "text": [
            "==================================================\n",
            "Displaying a Single Batch\n",
            "==================================================\n",
            "[made her f]  -->  [ade her fe]\n",
            "[her feel v]  -->  [er feel ve]\n",
            "[eel very s]  -->  [el very sl]\n",
            "[ery sleepy]  -->  [ry sleepy ]\n",
            "[leepy and ]  -->  [eepy and s]\n",
            "[ and stupi]  -->  [and stupid]\n",
            "[stupid whe]  -->  [tupid whet]\n",
            "[d whether ]  -->  [ whether t]\n",
            "==================================================\n"
          ]
        }
      ],
      "source": [
        "# Display for y shift and  step_size\n",
        "def display_batch_generation(arr, char_to_int, int_to_char):\n",
        "    batch_size, seq_length, step_size = 8, 10, 5  # Setting step_size for overlap between sequences\n",
        "\n",
        "    x_batches, y_batches = get_batches(arr, batch_size, seq_length, step_size)\n",
        "\n",
        "    # Display batch number 10\n",
        "    x_chars = ''.join([int_to_char[idx] for idx in x_batches[10][0]])\n",
        "    y_chars = ''.join([int_to_char[idx] for idx in y_batches[10][0]])\n",
        "\n",
        "    print('='*50)\n",
        "    print('Displaying a Single Batch')\n",
        "    print('='*50)\n",
        "    for i in range(batch_size):\n",
        "        x_chars = ''.join([int_to_char[idx] for idx in x_batches[10][i]])\n",
        "        y_chars = ''.join([int_to_char[idx] for idx in y_batches[10][i]])\n",
        "\n",
        "        print(f\"[{x_chars}]  -->  [{y_chars}]\")\n",
        "    print('='*50)\n",
        "display_batch_generation(encoded_chars, char_to_int, int_to_char )"
      ]
    },
    {
      "cell_type": "markdown",
      "id": "b5662b3c-84f4-402e-a503-ffb1930fdeaa",
      "metadata": {
        "deletable": false,
        "editable": false,
        "id": "b5662b3c-84f4-402e-a503-ffb1930fdeaa",
        "nbgrader": {
          "checksum": "b407aa7e91d942d51744bd8f60bb70cd",
          "grade": false,
          "grade_id": "cell-63d39ee7de5e409f",
          "locked": true,
          "schema_version": 3,
          "solution": false,
          "task": false
        }
      },
      "source": [
        "### 4. Define the Character-Level LSTM Model\n",
        "In this step, I implement the CharLSTM class, which processes sequences of characters and predicts the next character in the sequence. The model will learn sequential patterns in the data and store information over time using hidden states.\n",
        "\n",
        "##### Key Components:\n",
        "##### 1. Single Multi-Layer LSTM (see [nn.LSTM](https://pytorch.org/docs/stable/generated/torch.nn.LSTM.html)):\n",
        "- Use a single `nn.LSTM` module configured as a multi-layer LSTM by setting the `num_layers` parameter to specify the number of stacked layers within this LSTM.\n",
        "- Dropout set in `nn.LSTM` automatically applies dropout between the internal LSTM layers (e.g., between the 1st and 2nd layers if num_layers=2). This dropout is only applied between the internal LSTM layers and does not affect the final output layer.\n",
        "\n",
        "##### 2. Dropout Layer (see [nn.Dropout](https://pytorch.org/docs/stable/generated/torch.nn.Dropout.html)):\n",
        "- Define an additional dropout layer to be applied after the final LSTM layer. This helps to prevent overfitting.\n",
        "\n",
        "##### 3. Fully Connected Layer (see [nn.Linear](https://pytorch.org/docs/stable/generated/torch.nn.Linear.html)):\n",
        "- After the LSTM layers, a fully connected layer maps the hidden states to process them as a probability distribution over the vocabulary to predict the next character in the sequence.\n",
        "\n",
        "##### 4. Hidden State Initialization:\n",
        "- The LSTM's hidden and cell states will be initialized with zero values before each batch is processed and will be updated as the model processes the sequence."
      ]
    },
    {
      "cell_type": "code",
      "execution_count": 26,
      "id": "96e05ab1-1dc9-42cb-9e2a-aeb226861f5a",
      "metadata": {
        "deletable": false,
        "id": "96e05ab1-1dc9-42cb-9e2a-aeb226861f5a",
        "nbgrader": {
          "checksum": "f38a50dd45898543c6efc37941ce9ce0",
          "grade": false,
          "grade_id": "cell-f08538e1fc0fcaff",
          "locked": false,
          "schema_version": 3,
          "solution": true,
          "task": false
        }
      },
      "outputs": [],
      "source": [
        "class CharLSTM(nn.Module):\n",
        "    \"\"\"\n",
        "    Character-Level Multi-Layer LSTM Model\n",
        "\n",
        "    This model processes sequences of characters and predicts the next character in the sequence.\n",
        "    \"\"\"\n",
        "\n",
        "    def __init__(self, num_layers, input_dim, hidden_dim, output_dim, dropout_prob):\n",
        "        \"\"\"\n",
        "        Initializes the CharLSTM model with the specified parameters.\n",
        "\n",
        "        Args:\n",
        "            num_layers (int): Number of LSTM layers\n",
        "            input_dim (int): Dimensionality of the input (e.g. one-hot encoded input size)\n",
        "            hidden_dim (int): Dimensionality of the LSTM hidden layer.\n",
        "            output_dim (int): Dimensionality of the output.\n",
        "            dropout_prob (float): Dropout after each layer.\n",
        "        \"\"\"\n",
        "        super(CharLSTM, self).__init__()\n",
        "\n",
        "        # Save hidden dimension and number of layers for hidden state initialization\n",
        "        self.hidden_dim = hidden_dim\n",
        "        self.num_layers = num_layers\n",
        "\n",
        "        # Define a single LSTM module configured as a multi-layer LSTM\n",
        "        # Internal dropout of dropout_prob is applied between layers\n",
        "        # Apply additional dropout after LSTM\n",
        "        # Apply dense layer at the end\n",
        "        # YOUR CODE HERE\n",
        "\n",
        "        self.lstm = nn.LSTM(input_dim, hidden_dim, num_layers, batch_first=True, dropout=dropout_prob)\n",
        "        self.dropout = nn.Dropout(dropout_prob)\n",
        "        self.fc = nn.Linear(hidden_dim, output_dim)\n",
        "\n",
        "    def forward(self, x, hidden):\n",
        "        \"\"\"\n",
        "        Performs the forward pass of the CharLSTM model.\n",
        "\n",
        "        Args:\n",
        "            x (torch.Tensor): Input tensor of shape (batch_size, seq_length, input_dim).\n",
        "            hidden (tuple): Tuple of (h0, c0), where each is a tensor of shape (num_layers, batch_size, hidden_dim).\n",
        "\n",
        "        Returns:\n",
        "            out (torch.Tensor): Output tensor of shape (batch_size, seq_length, output_dim).\n",
        "            (h, c) (tuple): Updated hidden states (h, c) for each LSTM layer.\n",
        "                - h (torch.Tensor): Final hidden state\n",
        "                - c (torch.Tensor): Final cell state\n",
        "        \"\"\"\n",
        "\n",
        "        # Pass the input through the LSTM\n",
        "        # The LSTM output 'out' has shape (batch_size, seq_length, hidden_dim)\n",
        "        # 'h' and 'c' represent the final hidden and cell states for each layer\n",
        "        # YOUR CODE HERE\n",
        "        out, (h, c) = self.lstm(x, hidden)\n",
        "        out = self.dropout(out)\n",
        "        out = self.fc(out)\n",
        "\n",
        "        # Return the final output and the updated hidden states\n",
        "        return out, (h, c)\n",
        "\n",
        "    def init_hidden(self, batch_size):\n",
        "        \"\"\"\n",
        "        Initializes the hidden and cell states to zeros for each LSTM layer.\n",
        "\n",
        "        Args:\n",
        "            batch_size (int): The batch size for the current data.\n",
        "\n",
        "        Returns:\n",
        "            (h0, c0) (tuple): Tuple of initial hidden states (h0, c0) for each LSTM layer.\n",
        "            - h0 (torch.Tensor): Initial hidden state\n",
        "            - c0 (torch.Tensor): Initial cell state\n",
        "        \"\"\"\n",
        "        # Set the device to match the model's device to prevent device mismatch errors\n",
        "        device = next(self.parameters()).device\n",
        "\n",
        "        # Initialize hidden state (h0) and cell state (c0) to zeros\n",
        "        # Check the expected shape of hidden states in pytorch nn.LSTM documentation\n",
        "        # YOUR CODE HERE\n",
        "\n",
        "        h0 = torch.zeros(self.num_layers, batch_size, self.hidden_dim).to(device)\n",
        "        c0 = torch.zeros(self.num_layers, batch_size, self.hidden_dim).to(device)\n",
        "\n",
        "        return (h0, c0)"
      ]
    },
    {
      "cell_type": "code",
      "execution_count": 27,
      "id": "cded5f58-74e8-4993-bf3d-1fe8194c8546",
      "metadata": {
        "colab": {
          "base_uri": "https://localhost:8080/"
        },
        "deletable": false,
        "editable": false,
        "id": "cded5f58-74e8-4993-bf3d-1fe8194c8546",
        "nbgrader": {
          "checksum": "85101652097b5e0494bd6fe884b8228c",
          "grade": true,
          "grade_id": "cell-995677209a3904d3",
          "locked": true,
          "points": 1,
          "schema_version": 3,
          "solution": false,
          "task": false
        },
        "outputId": "9e93e822-5cfe-4ccb-de96-ffd7c5c665b3"
      },
      "outputs": [
        {
          "name": "stdout",
          "output_type": "stream",
          "text": [
            "Dropout test passed successfully!\n"
          ]
        }
      ],
      "source": [
        "def test_dropout_effect():\n",
        "    model = CharLSTM(num_layers=2, input_dim=10, hidden_dim=100, output_dim=40, dropout_prob=0.1)\n",
        "    device = torch.device('cuda' if torch.cuda.is_available() else 'cpu')\n",
        "    model.to(device)\n",
        "\n",
        "    hidden = model.init_hidden(64)\n",
        "    input_seq = torch.rand(64, 50, 10).to(device)\n",
        "\n",
        "    # Check variance in training mode\n",
        "    model.train()\n",
        "    output1, _ = model(input_seq, hidden)\n",
        "    output2, _ = model(input_seq, hidden)\n",
        "    assert not torch.equal(output1, output2), 'Dropout has no effect in training mode.'\n",
        "\n",
        "    # Check consistency in evaluation mode\n",
        "    model.eval()\n",
        "    output3, _ = model(input_seq, hidden)\n",
        "    output4, _ = model(input_seq, hidden)\n",
        "    assert torch.equal(output3, output4), 'Outputs should be consistent in evaluation mode'\n",
        "\n",
        "    print('Dropout test passed successfully!')\n",
        "\n",
        "test_dropout_effect()"
      ]
    },
    {
      "cell_type": "code",
      "execution_count": 28,
      "id": "dc0ae26b-ca7b-493e-8084-d3247be1916f",
      "metadata": {
        "colab": {
          "base_uri": "https://localhost:8080/"
        },
        "deletable": false,
        "editable": false,
        "id": "dc0ae26b-ca7b-493e-8084-d3247be1916f",
        "nbgrader": {
          "checksum": "9b96df73b3a7dad7d38bccca30100503",
          "grade": true,
          "grade_id": "cell-c5a5ca19aed4beaf",
          "locked": true,
          "points": 2,
          "schema_version": 3,
          "solution": false,
          "task": false
        },
        "outputId": "72bbfa85-f8fe-4108-b30e-40b130f0ffb1"
      },
      "outputs": [
        {
          "name": "stdout",
          "output_type": "stream",
          "text": [
            "LSTM shape test passed successfully!\n",
            "Visible tests passed!\n"
          ]
        }
      ],
      "source": [
        "def test_lstm_model():\n",
        "    model = CharLSTM(num_layers=2, input_dim=10, hidden_dim=100, output_dim=40, dropout_prob=0.1)\n",
        "    device = torch.device('cuda' if torch.cuda.is_available() else 'cpu')\n",
        "    model.to(device)\n",
        "\n",
        "    hidden = model.init_hidden(64)\n",
        "    input_seq = torch.rand(64, 50, 10).to(device)\n",
        "\n",
        "    try:\n",
        "        output, hidden = model(input_seq, hidden)\n",
        "\n",
        "        # Test 1: Check if output shape matches the expected shape (batch_size, seq_length, output_dim)\n",
        "        assert output.shape == (64, 50, 40), f'Expected output shape: {(64, 50, 40)}, but got: {output.shape}. Check your final output shape.'\n",
        "\n",
        "        # Test 2: Check if hidden state shapes match expected shape based on number of layers and batch size\n",
        "        (h, c) = hidden\n",
        "        assert h.shape == (2, 64, 100), f'Expected h shape: {(2, 64, 100)}, but got: {h.shape}'\n",
        "        assert c.shape == (2, 64, 100), f'Expected c shape: {(2, 64, 100)}, but got: {c.shape}'\n",
        "\n",
        "        print('LSTM shape test passed successfully!')\n",
        "\n",
        "    except RuntimeError as e:\n",
        "        print('RuntimeError encountered. Check if your LSTM is handling batch_first correctly in the model definition.')\n",
        "        print(f'Error details: {e}')\n",
        "\n",
        "    print('Visible tests passed!')\n",
        "\n",
        "test_lstm_model()\n"
      ]
    },
    {
      "cell_type": "markdown",
      "id": "bf5c3c04-852b-4fea-a96d-4440f1eca9f4",
      "metadata": {
        "deletable": false,
        "editable": false,
        "id": "bf5c3c04-852b-4fea-a96d-4440f1eca9f4",
        "nbgrader": {
          "checksum": "87907c11a292798d8f0afc5ac2e41fd6",
          "grade": false,
          "grade_id": "cell-f811f0b42ac678b1",
          "locked": true,
          "schema_version": 3,
          "solution": false,
          "task": false
        }
      },
      "source": [
        "### 5. Train the Model\n",
        "\n",
        "In this task, I will implement the training loop for the CharLSTM model.\n",
        "\n",
        "##### Steps to Follow:\n",
        "Outside of the iteration, initialize the hidden states using the `init_hidden()` method.\n",
        "\n",
        "For each iteration:\n",
        "##### 1. Encoding the input sequence:\n",
        "- For each batch, convert the input to one-hot representations (see [F.one_hot](https://pytorch.org/docs/stable/generated/torch.nn.functional.one_hot.html))\n",
        "\n",
        "##### 2. Detach Hidden States:\n",
        "- Detach the hidden states after each batch to avoid backpropagating through previous batches to ensure efficient training.\n",
        "\n",
        "##### 3. Forward Pass and Loss Calculation:\n",
        "- For each batch, perform forward pass by passing the input x to the model.\n",
        "- The model will output logits, which will represent the predicted probabilities for the next character in the sequence when passed to the cross-entropy loss.\n",
        "- Use cross-entropy loss to compare the predicted output to the target y and calculate the error for the current batch.\n",
        "\n",
        "##### 4. Backpropagation and Parameter Update:\n",
        "- After calculating the loss compute the gradients with backward pass.\n",
        "- Update the model parameters using the optimizer."
      ]
    },
    {
      "cell_type": "code",
      "execution_count": 29,
      "id": "85869fef-cd2c-4f5f-a34f-21efd2995817",
      "metadata": {
        "deletable": false,
        "id": "85869fef-cd2c-4f5f-a34f-21efd2995817",
        "nbgrader": {
          "checksum": "c3bbd7de1795376183497192a382d6b9",
          "grade": false,
          "grade_id": "cell-12ea36dbb7f387ab",
          "locked": false,
          "schema_version": 3,
          "solution": true,
          "task": false
        }
      },
      "outputs": [],
      "source": [
        "def train(model, encoded_chars, vocab_size, num_epochs, batch_size,\n",
        "          seq_length, step_size, learning_rate, save_path=None, verbose=True):\n",
        "    \"\"\"\n",
        "    Train the CharLSTM model on encoded text data.\n",
        "\n",
        "    Arguments:\n",
        "    model -- The LSTM model\n",
        "    encoded_chars -- Encoded data (characters)\n",
        "    vocab_size -- Size of the vocabulary\n",
        "    num_epochs -- Number of training epochs\n",
        "    batch_size -- Batch size for training\n",
        "    seq_length -- Sequence length for each batch\n",
        "    learning_rate -- Learning rate for the optimizer\n",
        "    save_path -- Path to save the trained model (optional)\n",
        "    \"\"\"\n",
        "\n",
        "    model.train()  # Set model to training mode\n",
        "    optimizer = optim.Adam(model.parameters(), lr=learning_rate)  # Initialize Adam optimizer\n",
        "    criterion = nn.CrossEntropyLoss()  # Cross entropy loss function\n",
        "\n",
        "    # Prepare batches\n",
        "    x_batches, y_batches = get_batches(encoded_chars, batch_size, seq_length, step_size)\n",
        "    num_batches = len(x_batches)\n",
        "\n",
        "    for epoch in range(num_epochs):\n",
        "        total_loss = 0\n",
        "        # Progress bar for the current epoch\n",
        "        batch_loader = tqdm(zip(x_batches, y_batches), total=num_batches,\n",
        "                            leave=True, desc=f'Epoch {epoch+1}/{num_epochs}')\n",
        "\n",
        "        # Initialize hidden states for both LSTM layers\n",
        "        # YOUR CODE HERE\n",
        "        hidden = model.init_hidden(batch_size)\n",
        "\n",
        "        for x, y in batch_loader:\n",
        "            x = torch.as_tensor(x, dtype=torch.long).to(device)\n",
        "            y = torch.as_tensor(y, dtype=torch.long).to(device) # target\n",
        "\n",
        "            # Make sure to have consistent variable naming with the rest of the code (e.g., loss)\n",
        "            # YOUR CODE HERE\n",
        "            x_one_hot = F.one_hot(x, num_classes=vocab_size).float()\n",
        "            hidden = tuple([state.detach() for state in hidden])\n",
        "            logits, hidden = model(x_one_hot, hidden)\n",
        "\n",
        "            logits = logits.view(batch_size * seq_length, vocab_size)\n",
        "            y = y.view(batch_size * seq_length)\n",
        "\n",
        "            loss = criterion(logits, y)\n",
        "            optimizer.zero_grad()\n",
        "            loss.backward()\n",
        "            optimizer.step()\n",
        "            total_loss += loss.item()\n",
        "\n",
        "        # Print the average loss for the current epoch\n",
        "        if verbose:\n",
        "            print(f'Epoch {epoch + 1}/{num_epochs}, Loss: {total_loss / num_batches:.4f}')\n",
        "\n",
        "        # Optional model saving\n",
        "        # Let us save it each epoch since training takes a while and you want to stop in the middle\n",
        "        if save_path:\n",
        "            torch.save(model.state_dict(), save_path)\n",
        "            print(f'Your trained model at epoch {epoch} is saved successfully!')\n",
        "\n",
        "    return total_loss / num_batches"
      ]
    },
    {
      "cell_type": "code",
      "execution_count": 30,
      "id": "11d395cf-1f84-4861-b62e-b8cc339cba21",
      "metadata": {
        "colab": {
          "base_uri": "https://localhost:8080/"
        },
        "deletable": false,
        "editable": false,
        "id": "11d395cf-1f84-4861-b62e-b8cc339cba21",
        "nbgrader": {
          "checksum": "95f3007f6bf575a2d59473dd4935a600",
          "grade": true,
          "grade_id": "cell-27ff7890904aba0c",
          "locked": true,
          "points": 0,
          "schema_version": 3,
          "solution": false,
          "task": false
        },
        "outputId": "46995847-9674-4a87-c770-aba46e04a998"
      },
      "outputs": [
        {
          "name": "stdout",
          "output_type": "stream",
          "text": [
            "Test passed: model.forward was called.\n"
          ]
        }
      ],
      "source": [
        "from unittest.mock import patch, MagicMock\n",
        "from functools import partialmethod\n",
        "\n",
        "def test_model_forward_called():\n",
        "    vocab_size, hidden_dim, dropout_prob = 50, 12, 0.2\n",
        "    batch_size, seq_length, num_epochs = 2, 3, 1\n",
        "    test_chars = np.arange(vocab_size)\n",
        "    model = CharLSTM(2, vocab_size, hidden_dim, vocab_size, dropout_prob=0.1)\n",
        "    device = torch.device('cuda' if torch.cuda.is_available() else 'cpu')\n",
        "    model.to(device)\n",
        "\n",
        "    # Wrap the model's forward method in a MagicMock to check if it's called\n",
        "    with patch.object(model, 'forward', wraps=model.forward) as mock_forward, \\\n",
        "         patch('torch.optim.Adam'), \\\n",
        "         patch('torch.nn.CrossEntropyLoss'), \\\n",
        "         patch('tqdm.tqdm.__init__', partialmethod(tqdm.__init__, disable=True)):\n",
        "\n",
        "        try:\n",
        "            # Run the train function\n",
        "            train(model, test_chars, vocab_size, num_epochs=num_epochs, batch_size=batch_size, seq_length=seq_length, step_size=seq_length, learning_rate=0.001, verbose=False)\n",
        "        except Exception as e:\n",
        "            # Ignore any exceptions that might arise from incorrect shapes or other issues\n",
        "            # We will check this in the following cells\n",
        "            pass\n",
        "\n",
        "        # Verify that forward was called, regardless of shape issues\n",
        "        assert mock_forward.called, 'Expected model.forward to be called at the beginning of training, but it was not.'\n",
        "        print('Test passed: model.forward was called.')\n",
        "\n",
        "test_model_forward_called()"
      ]
    },
    {
      "cell_type": "code",
      "execution_count": 31,
      "id": "076ce995-9c03-44ec-a343-9b8b66bd62fb",
      "metadata": {
        "colab": {
          "base_uri": "https://localhost:8080/"
        },
        "deletable": false,
        "editable": false,
        "id": "076ce995-9c03-44ec-a343-9b8b66bd62fb",
        "nbgrader": {
          "checksum": "08c65ff965ca21cbd3800af2c38297af",
          "grade": true,
          "grade_id": "cell-5fbdbaead214e1cd",
          "locked": true,
          "points": 0.5,
          "schema_version": 3,
          "solution": false,
          "task": false
        },
        "outputId": "20d30767-9a14-4efb-b809-acb3a3b68f6d"
      },
      "outputs": [
        {
          "name": "stdout",
          "output_type": "stream",
          "text": [
            "Test passed: input shape x is correctly set\n"
          ]
        }
      ],
      "source": [
        "def test_input_shape():\n",
        "    vocab_size, hidden_dim, dropout_prob = 50, 12, 0.2\n",
        "    batch_size, seq_length, num_epochs = 2, 3, 1\n",
        "    test_chars = np.arange(vocab_size)\n",
        "    model = CharLSTM(2, vocab_size, hidden_dim, vocab_size, dropout_prob=0.1)\n",
        "    device = torch.device('cuda' if torch.cuda.is_available() else 'cpu')\n",
        "    model.to(device)\n",
        "\n",
        "    def forward_spy(x, hidden):\n",
        "        assert x.shape == (2,3,50), f'Expected x shape {(2,3,50)}, but got {x.shape}'\n",
        "        return model.__class__.forward(model, x, hidden)\n",
        "\n",
        "    # Patch the forward method\n",
        "    with patch.object(model, 'forward', wraps=forward_spy), \\\n",
        "         patch('torch.optim.Adam'), \\\n",
        "         patch('torch.nn.CrossEntropyLoss'), \\\n",
        "         patch('tqdm.tqdm.__init__', partialmethod(tqdm.__init__, disable=True)):\n",
        "\n",
        "        train(model, test_chars, vocab_size, num_epochs=num_epochs, batch_size=batch_size, seq_length=seq_length, step_size=seq_length, learning_rate=0.001, verbose=False)\n",
        "        print('Test passed: input shape x is correctly set')\n",
        "\n",
        "test_input_shape()"
      ]
    },
    {
      "cell_type": "code",
      "execution_count": 32,
      "id": "7a3ae284-f4ae-421a-9e95-800648242bef",
      "metadata": {
        "colab": {
          "base_uri": "https://localhost:8080/"
        },
        "deletable": false,
        "editable": false,
        "id": "7a3ae284-f4ae-421a-9e95-800648242bef",
        "nbgrader": {
          "checksum": "bda03eb0344defa25afd99546a762345",
          "grade": true,
          "grade_id": "cell-1707c1e471a1c52c",
          "locked": true,
          "points": 0.5,
          "schema_version": 3,
          "solution": false,
          "task": false
        },
        "outputId": "954844f3-24d5-49b1-a630-95bc5dd35496"
      },
      "outputs": [
        {
          "name": "stdout",
          "output_type": "stream",
          "text": [
            "Test passed: hidden states are detached.\n"
          ]
        }
      ],
      "source": [
        "def test_hidden_state_requires_grad():\n",
        "    vocab_size, hidden_dim, dropout_prob = 50, 12, 0.2\n",
        "    batch_size, seq_length, num_epochs = 2, 3, 1\n",
        "    test_chars = np.arange(vocab_size)\n",
        "    model = CharLSTM(2, vocab_size, hidden_dim, vocab_size, dropout_prob=0.1)\n",
        "    device = torch.device('cuda' if torch.cuda.is_available() else 'cpu')\n",
        "    model.to(device)\n",
        "\n",
        "    def forward_spy(x, hidden):\n",
        "        h, c = hidden\n",
        "\n",
        "        # Check if h and c require gradients (are they are detached)\n",
        "        assert not h.requires_grad, 'Expected hidden state h to be detached (requires_grad=False)'\n",
        "        assert not c.requires_grad, 'Expected hidden state c to be detached (requires_grad=False)'\n",
        "\n",
        "        return model.__class__.forward(model, x, hidden)\n",
        "\n",
        "    # Patch the forward method\n",
        "    with patch.object(model, 'forward', wraps=forward_spy), \\\n",
        "         patch('torch.optim.Adam'), \\\n",
        "         patch('torch.nn.CrossEntropyLoss'), \\\n",
        "         patch('tqdm.tqdm.__init__', partialmethod(tqdm.__init__, disable=True)):\n",
        "\n",
        "        train(model, test_chars, vocab_size, num_epochs=num_epochs, batch_size=batch_size, seq_length=seq_length, step_size=seq_length, learning_rate=0.001, verbose=False)\n",
        "        print('Test passed: hidden states are detached.')\n",
        "\n",
        "test_hidden_state_requires_grad()"
      ]
    },
    {
      "cell_type": "code",
      "execution_count": 33,
      "id": "7659e6b6-c73c-492b-8207-5a3d48ba63a8",
      "metadata": {
        "colab": {
          "base_uri": "https://localhost:8080/"
        },
        "deletable": false,
        "editable": false,
        "id": "7659e6b6-c73c-492b-8207-5a3d48ba63a8",
        "nbgrader": {
          "checksum": "da26527770b32a5848060a211a6bc0ba",
          "grade": true,
          "grade_id": "cell-579cf854d3ccaf48",
          "locked": true,
          "points": 1,
          "schema_version": 3,
          "solution": false,
          "task": false
        },
        "outputId": "a3289143-958a-4a15-9aa1-4037e054e9d2"
      },
      "outputs": [
        {
          "name": "stdout",
          "output_type": "stream",
          "text": [
            "Test passed: criterion arguments have expected shapes.\n"
          ]
        }
      ],
      "source": [
        "def test_criterion_argument_shapes():\n",
        "    vocab_size, hidden_dim, dropout_prob = 50, 12, 0.2\n",
        "    batch_size, seq_length, num_epochs = 2, 3, 1\n",
        "    test_chars = np.arange(vocab_size)\n",
        "\n",
        "    # Define the device\n",
        "    device = torch.device('cuda' if torch.cuda.is_available() else 'cpu')\n",
        "    mock_model = CharLSTM(2, vocab_size, hidden_dim, vocab_size, dropout_prob=0.1).to(device)\n",
        "\n",
        "    with patch(\"tqdm.tqdm.__init__\", partialmethod(tqdm.__init__, disable=True)), \\\n",
        "         patch(\"torch.optim.Adam\"):\n",
        "\n",
        "        def criterion_side_effect(output, y):\n",
        "            assert output.shape == (batch_size * seq_length, vocab_size), \\\n",
        "                f\"Expected model output shape ({batch_size * seq_length}, {vocab_size}), but got {output.shape}\"\n",
        "            assert y.shape == (batch_size * seq_length,), \\\n",
        "                f\"Expected target (y) shape ({batch_size * seq_length},), but got {y.shape}\"\n",
        "            return torch.tensor(0.0, requires_grad=True, device=device)\n",
        "\n",
        "        with patch(\"torch.nn.CrossEntropyLoss\", return_value=criterion_side_effect), \\\n",
        "             patch(\"__main__.get_batches\", return_value=(\n",
        "                 torch.randint(0, 50, (11, 2, 3), device=device),\n",
        "                 torch.randint(0, 50, (11, 2, 3), device=device)\n",
        "             )):\n",
        "\n",
        "            train(mock_model, test_chars, vocab_size, num_epochs=num_epochs, batch_size=batch_size, seq_length=seq_length, step_size=seq_length, learning_rate=0.001, verbose=False)\n",
        "            print(\"Test passed: criterion arguments have expected shapes.\")\n",
        "\n",
        "test_criterion_argument_shapes()"
      ]
    },
    {
      "cell_type": "markdown",
      "id": "f744f6c3-06a4-47a3-9c46-c2344c4e74ab",
      "metadata": {
        "deletable": false,
        "editable": false,
        "id": "f744f6c3-06a4-47a3-9c46-c2344c4e74ab",
        "nbgrader": {
          "checksum": "78ba413d7fe1f539b5f90fc147ac112a",
          "grade": false,
          "grade_id": "cell-50b02537e194d303",
          "locked": true,
          "schema_version": 3,
          "solution": false,
          "task": false
        }
      },
      "source": [
        "#### Model Initialization\n"
      ]
    },
    {
      "cell_type": "code",
      "execution_count": 34,
      "id": "3b68e133-661b-4382-bd4e-b08d6046763e",
      "metadata": {
        "colab": {
          "base_uri": "https://localhost:8080/"
        },
        "id": "3b68e133-661b-4382-bd4e-b08d6046763e",
        "outputId": "77363be4-2ba0-430e-f3e3-0f7ea97d06dc"
      },
      "outputs": [
        {
          "name": "stdout",
          "output_type": "stream",
          "text": [
            "CharLSTM(\n",
            "  (lstm): LSTM(27, 400, num_layers=2, batch_first=True, dropout=0.1)\n",
            "  (dropout): Dropout(p=0.1, inplace=False)\n",
            "  (fc): Linear(in_features=400, out_features=27, bias=True)\n",
            ")\n"
          ]
        }
      ],
      "source": [
        "hidden_dim = 400\n",
        "dropout_prob=0.1\n",
        "num_layers=2\n",
        "vocab_size = len(char_to_int)\n",
        "model = CharLSTM(num_layers, vocab_size, hidden_dim, vocab_size, dropout_prob)\n",
        "model = model.to(device)\n",
        "print(model)"
      ]
    },
    {
      "cell_type": "code",
      "execution_count": 35,
      "id": "c738f5ec-9833-495d-b3e1-c0b61d31dee6",
      "metadata": {
        "colab": {
          "base_uri": "https://localhost:8080/"
        },
        "id": "c738f5ec-9833-495d-b3e1-c0b61d31dee6",
        "outputId": "f58d98ce-a4bc-410d-f3cc-667aafe84647"
      },
      "outputs": [
        {
          "name": "stderr",
          "output_type": "stream",
          "text": [
            "Epoch 1/50: 100%|██████████| 26/26 [00:01<00:00, 23.11it/s]\n"
          ]
        },
        {
          "name": "stdout",
          "output_type": "stream",
          "text": [
            "Epoch 1/50, Loss: 2.9011\n",
            "Your trained model at epoch 0 is saved successfully!\n"
          ]
        },
        {
          "name": "stderr",
          "output_type": "stream",
          "text": [
            "Epoch 2/50: 100%|██████████| 26/26 [00:00<00:00, 38.09it/s]\n"
          ]
        },
        {
          "name": "stdout",
          "output_type": "stream",
          "text": [
            "Epoch 2/50, Loss: 2.8012\n",
            "Your trained model at epoch 1 is saved successfully!\n"
          ]
        },
        {
          "name": "stderr",
          "output_type": "stream",
          "text": [
            "Epoch 3/50: 100%|██████████| 26/26 [00:00<00:00, 37.81it/s]\n"
          ]
        },
        {
          "name": "stdout",
          "output_type": "stream",
          "text": [
            "Epoch 3/50, Loss: 2.7706\n",
            "Your trained model at epoch 2 is saved successfully!\n"
          ]
        },
        {
          "name": "stderr",
          "output_type": "stream",
          "text": [
            "Epoch 4/50: 100%|██████████| 26/26 [00:00<00:00, 37.55it/s]\n"
          ]
        },
        {
          "name": "stdout",
          "output_type": "stream",
          "text": [
            "Epoch 4/50, Loss: 2.5737\n",
            "Your trained model at epoch 3 is saved successfully!\n"
          ]
        },
        {
          "name": "stderr",
          "output_type": "stream",
          "text": [
            "Epoch 5/50: 100%|██████████| 26/26 [00:00<00:00, 37.39it/s]\n"
          ]
        },
        {
          "name": "stdout",
          "output_type": "stream",
          "text": [
            "Epoch 5/50, Loss: 2.3302\n",
            "Your trained model at epoch 4 is saved successfully!\n"
          ]
        },
        {
          "name": "stderr",
          "output_type": "stream",
          "text": [
            "Epoch 6/50: 100%|██████████| 26/26 [00:00<00:00, 37.37it/s]\n"
          ]
        },
        {
          "name": "stdout",
          "output_type": "stream",
          "text": [
            "Epoch 6/50, Loss: 2.2063\n",
            "Your trained model at epoch 5 is saved successfully!\n"
          ]
        },
        {
          "name": "stderr",
          "output_type": "stream",
          "text": [
            "Epoch 7/50: 100%|██████████| 26/26 [00:00<00:00, 37.80it/s]\n"
          ]
        },
        {
          "name": "stdout",
          "output_type": "stream",
          "text": [
            "Epoch 7/50, Loss: 2.1153\n",
            "Your trained model at epoch 6 is saved successfully!\n"
          ]
        },
        {
          "name": "stderr",
          "output_type": "stream",
          "text": [
            "Epoch 8/50: 100%|██████████| 26/26 [00:00<00:00, 37.67it/s]\n"
          ]
        },
        {
          "name": "stdout",
          "output_type": "stream",
          "text": [
            "Epoch 8/50, Loss: 2.0265\n",
            "Your trained model at epoch 7 is saved successfully!\n"
          ]
        },
        {
          "name": "stderr",
          "output_type": "stream",
          "text": [
            "Epoch 9/50: 100%|██████████| 26/26 [00:00<00:00, 37.61it/s]\n"
          ]
        },
        {
          "name": "stdout",
          "output_type": "stream",
          "text": [
            "Epoch 9/50, Loss: 1.9494\n",
            "Your trained model at epoch 8 is saved successfully!\n"
          ]
        },
        {
          "name": "stderr",
          "output_type": "stream",
          "text": [
            "Epoch 10/50: 100%|██████████| 26/26 [00:00<00:00, 37.58it/s]\n"
          ]
        },
        {
          "name": "stdout",
          "output_type": "stream",
          "text": [
            "Epoch 10/50, Loss: 1.8841\n",
            "Your trained model at epoch 9 is saved successfully!\n"
          ]
        },
        {
          "name": "stderr",
          "output_type": "stream",
          "text": [
            "Epoch 11/50: 100%|██████████| 26/26 [00:00<00:00, 37.19it/s]\n"
          ]
        },
        {
          "name": "stdout",
          "output_type": "stream",
          "text": [
            "Epoch 11/50, Loss: 1.8226\n",
            "Your trained model at epoch 10 is saved successfully!\n"
          ]
        },
        {
          "name": "stderr",
          "output_type": "stream",
          "text": [
            "Epoch 12/50: 100%|██████████| 26/26 [00:00<00:00, 37.35it/s]\n"
          ]
        },
        {
          "name": "stdout",
          "output_type": "stream",
          "text": [
            "Epoch 12/50, Loss: 1.7673\n",
            "Your trained model at epoch 11 is saved successfully!\n"
          ]
        },
        {
          "name": "stderr",
          "output_type": "stream",
          "text": [
            "Epoch 13/50: 100%|██████████| 26/26 [00:00<00:00, 37.31it/s]\n"
          ]
        },
        {
          "name": "stdout",
          "output_type": "stream",
          "text": [
            "Epoch 13/50, Loss: 1.7173\n",
            "Your trained model at epoch 12 is saved successfully!\n"
          ]
        },
        {
          "name": "stderr",
          "output_type": "stream",
          "text": [
            "Epoch 14/50: 100%|██████████| 26/26 [00:00<00:00, 37.59it/s]\n"
          ]
        },
        {
          "name": "stdout",
          "output_type": "stream",
          "text": [
            "Epoch 14/50, Loss: 1.6670\n",
            "Your trained model at epoch 13 is saved successfully!\n"
          ]
        },
        {
          "name": "stderr",
          "output_type": "stream",
          "text": [
            "Epoch 15/50: 100%|██████████| 26/26 [00:00<00:00, 37.55it/s]\n"
          ]
        },
        {
          "name": "stdout",
          "output_type": "stream",
          "text": [
            "Epoch 15/50, Loss: 1.6228\n",
            "Your trained model at epoch 14 is saved successfully!\n"
          ]
        },
        {
          "name": "stderr",
          "output_type": "stream",
          "text": [
            "Epoch 16/50: 100%|██████████| 26/26 [00:00<00:00, 37.40it/s]\n"
          ]
        },
        {
          "name": "stdout",
          "output_type": "stream",
          "text": [
            "Epoch 16/50, Loss: 1.5826\n",
            "Your trained model at epoch 15 is saved successfully!\n"
          ]
        },
        {
          "name": "stderr",
          "output_type": "stream",
          "text": [
            "Epoch 17/50: 100%|██████████| 26/26 [00:00<00:00, 37.72it/s]\n"
          ]
        },
        {
          "name": "stdout",
          "output_type": "stream",
          "text": [
            "Epoch 17/50, Loss: 1.5426\n",
            "Your trained model at epoch 16 is saved successfully!\n"
          ]
        },
        {
          "name": "stderr",
          "output_type": "stream",
          "text": [
            "Epoch 18/50: 100%|██████████| 26/26 [00:00<00:00, 37.51it/s]\n"
          ]
        },
        {
          "name": "stdout",
          "output_type": "stream",
          "text": [
            "Epoch 18/50, Loss: 1.5039\n",
            "Your trained model at epoch 17 is saved successfully!\n"
          ]
        },
        {
          "name": "stderr",
          "output_type": "stream",
          "text": [
            "Epoch 19/50: 100%|██████████| 26/26 [00:00<00:00, 37.50it/s]\n"
          ]
        },
        {
          "name": "stdout",
          "output_type": "stream",
          "text": [
            "Epoch 19/50, Loss: 1.4693\n",
            "Your trained model at epoch 18 is saved successfully!\n"
          ]
        },
        {
          "name": "stderr",
          "output_type": "stream",
          "text": [
            "Epoch 20/50: 100%|██████████| 26/26 [00:00<00:00, 37.54it/s]\n"
          ]
        },
        {
          "name": "stdout",
          "output_type": "stream",
          "text": [
            "Epoch 20/50, Loss: 1.4376\n",
            "Your trained model at epoch 19 is saved successfully!\n"
          ]
        },
        {
          "name": "stderr",
          "output_type": "stream",
          "text": [
            "Epoch 21/50: 100%|██████████| 26/26 [00:00<00:00, 37.28it/s]\n"
          ]
        },
        {
          "name": "stdout",
          "output_type": "stream",
          "text": [
            "Epoch 21/50, Loss: 1.4098\n",
            "Your trained model at epoch 20 is saved successfully!\n"
          ]
        },
        {
          "name": "stderr",
          "output_type": "stream",
          "text": [
            "Epoch 22/50: 100%|██████████| 26/26 [00:00<00:00, 37.39it/s]\n"
          ]
        },
        {
          "name": "stdout",
          "output_type": "stream",
          "text": [
            "Epoch 22/50, Loss: 1.3800\n",
            "Your trained model at epoch 21 is saved successfully!\n"
          ]
        },
        {
          "name": "stderr",
          "output_type": "stream",
          "text": [
            "Epoch 23/50: 100%|██████████| 26/26 [00:00<00:00, 37.44it/s]\n"
          ]
        },
        {
          "name": "stdout",
          "output_type": "stream",
          "text": [
            "Epoch 23/50, Loss: 1.3517\n",
            "Your trained model at epoch 22 is saved successfully!\n"
          ]
        },
        {
          "name": "stderr",
          "output_type": "stream",
          "text": [
            "Epoch 24/50: 100%|██████████| 26/26 [00:00<00:00, 37.57it/s]\n"
          ]
        },
        {
          "name": "stdout",
          "output_type": "stream",
          "text": [
            "Epoch 24/50, Loss: 1.3275\n",
            "Your trained model at epoch 23 is saved successfully!\n"
          ]
        },
        {
          "name": "stderr",
          "output_type": "stream",
          "text": [
            "Epoch 25/50: 100%|██████████| 26/26 [00:00<00:00, 37.43it/s]\n"
          ]
        },
        {
          "name": "stdout",
          "output_type": "stream",
          "text": [
            "Epoch 25/50, Loss: 1.3037\n",
            "Your trained model at epoch 24 is saved successfully!\n"
          ]
        },
        {
          "name": "stderr",
          "output_type": "stream",
          "text": [
            "Epoch 26/50: 100%|██████████| 26/26 [00:00<00:00, 37.21it/s]\n"
          ]
        },
        {
          "name": "stdout",
          "output_type": "stream",
          "text": [
            "Epoch 26/50, Loss: 1.2790\n",
            "Your trained model at epoch 25 is saved successfully!\n"
          ]
        },
        {
          "name": "stderr",
          "output_type": "stream",
          "text": [
            "Epoch 27/50: 100%|██████████| 26/26 [00:00<00:00, 37.13it/s]\n"
          ]
        },
        {
          "name": "stdout",
          "output_type": "stream",
          "text": [
            "Epoch 27/50, Loss: 1.2582\n",
            "Your trained model at epoch 26 is saved successfully!\n"
          ]
        },
        {
          "name": "stderr",
          "output_type": "stream",
          "text": [
            "Epoch 28/50: 100%|██████████| 26/26 [00:00<00:00, 37.02it/s]\n"
          ]
        },
        {
          "name": "stdout",
          "output_type": "stream",
          "text": [
            "Epoch 28/50, Loss: 1.2388\n",
            "Your trained model at epoch 27 is saved successfully!\n"
          ]
        },
        {
          "name": "stderr",
          "output_type": "stream",
          "text": [
            "Epoch 29/50: 100%|██████████| 26/26 [00:00<00:00, 37.25it/s]\n"
          ]
        },
        {
          "name": "stdout",
          "output_type": "stream",
          "text": [
            "Epoch 29/50, Loss: 1.2131\n",
            "Your trained model at epoch 28 is saved successfully!\n"
          ]
        },
        {
          "name": "stderr",
          "output_type": "stream",
          "text": [
            "Epoch 30/50: 100%|██████████| 26/26 [00:00<00:00, 36.64it/s]\n"
          ]
        },
        {
          "name": "stdout",
          "output_type": "stream",
          "text": [
            "Epoch 30/50, Loss: 1.1896\n",
            "Your trained model at epoch 29 is saved successfully!\n"
          ]
        },
        {
          "name": "stderr",
          "output_type": "stream",
          "text": [
            "Epoch 31/50: 100%|██████████| 26/26 [00:00<00:00, 37.39it/s]\n"
          ]
        },
        {
          "name": "stdout",
          "output_type": "stream",
          "text": [
            "Epoch 31/50, Loss: 1.1677\n",
            "Your trained model at epoch 30 is saved successfully!\n"
          ]
        },
        {
          "name": "stderr",
          "output_type": "stream",
          "text": [
            "Epoch 32/50: 100%|██████████| 26/26 [00:00<00:00, 37.22it/s]\n"
          ]
        },
        {
          "name": "stdout",
          "output_type": "stream",
          "text": [
            "Epoch 32/50, Loss: 1.1485\n",
            "Your trained model at epoch 31 is saved successfully!\n"
          ]
        },
        {
          "name": "stderr",
          "output_type": "stream",
          "text": [
            "Epoch 33/50: 100%|██████████| 26/26 [00:00<00:00, 37.20it/s]\n"
          ]
        },
        {
          "name": "stdout",
          "output_type": "stream",
          "text": [
            "Epoch 33/50, Loss: 1.1300\n",
            "Your trained model at epoch 32 is saved successfully!\n"
          ]
        },
        {
          "name": "stderr",
          "output_type": "stream",
          "text": [
            "Epoch 34/50: 100%|██████████| 26/26 [00:00<00:00, 37.12it/s]\n"
          ]
        },
        {
          "name": "stdout",
          "output_type": "stream",
          "text": [
            "Epoch 34/50, Loss: 1.1064\n",
            "Your trained model at epoch 33 is saved successfully!\n"
          ]
        },
        {
          "name": "stderr",
          "output_type": "stream",
          "text": [
            "Epoch 35/50: 100%|██████████| 26/26 [00:00<00:00, 37.33it/s]\n"
          ]
        },
        {
          "name": "stdout",
          "output_type": "stream",
          "text": [
            "Epoch 35/50, Loss: 1.0825\n",
            "Your trained model at epoch 34 is saved successfully!\n"
          ]
        },
        {
          "name": "stderr",
          "output_type": "stream",
          "text": [
            "Epoch 36/50: 100%|██████████| 26/26 [00:00<00:00, 37.05it/s]\n"
          ]
        },
        {
          "name": "stdout",
          "output_type": "stream",
          "text": [
            "Epoch 36/50, Loss: 1.0624\n",
            "Your trained model at epoch 35 is saved successfully!\n"
          ]
        },
        {
          "name": "stderr",
          "output_type": "stream",
          "text": [
            "Epoch 37/50: 100%|██████████| 26/26 [00:00<00:00, 37.10it/s]\n"
          ]
        },
        {
          "name": "stdout",
          "output_type": "stream",
          "text": [
            "Epoch 37/50, Loss: 1.0431\n",
            "Your trained model at epoch 36 is saved successfully!\n"
          ]
        },
        {
          "name": "stderr",
          "output_type": "stream",
          "text": [
            "Epoch 38/50: 100%|██████████| 26/26 [00:00<00:00, 36.80it/s]\n"
          ]
        },
        {
          "name": "stdout",
          "output_type": "stream",
          "text": [
            "Epoch 38/50, Loss: 1.0162\n",
            "Your trained model at epoch 37 is saved successfully!\n"
          ]
        },
        {
          "name": "stderr",
          "output_type": "stream",
          "text": [
            "Epoch 39/50: 100%|██████████| 26/26 [00:00<00:00, 36.96it/s]\n"
          ]
        },
        {
          "name": "stdout",
          "output_type": "stream",
          "text": [
            "Epoch 39/50, Loss: 0.9943\n",
            "Your trained model at epoch 38 is saved successfully!\n"
          ]
        },
        {
          "name": "stderr",
          "output_type": "stream",
          "text": [
            "Epoch 40/50: 100%|██████████| 26/26 [00:00<00:00, 36.81it/s]\n"
          ]
        },
        {
          "name": "stdout",
          "output_type": "stream",
          "text": [
            "Epoch 40/50, Loss: 0.9714\n",
            "Your trained model at epoch 39 is saved successfully!\n"
          ]
        },
        {
          "name": "stderr",
          "output_type": "stream",
          "text": [
            "Epoch 41/50: 100%|██████████| 26/26 [00:00<00:00, 36.98it/s]\n"
          ]
        },
        {
          "name": "stdout",
          "output_type": "stream",
          "text": [
            "Epoch 41/50, Loss: 0.9525\n",
            "Your trained model at epoch 40 is saved successfully!\n"
          ]
        },
        {
          "name": "stderr",
          "output_type": "stream",
          "text": [
            "Epoch 42/50: 100%|██████████| 26/26 [00:00<00:00, 37.07it/s]\n"
          ]
        },
        {
          "name": "stdout",
          "output_type": "stream",
          "text": [
            "Epoch 42/50, Loss: 0.9399\n",
            "Your trained model at epoch 41 is saved successfully!\n"
          ]
        },
        {
          "name": "stderr",
          "output_type": "stream",
          "text": [
            "Epoch 43/50: 100%|██████████| 26/26 [00:00<00:00, 36.74it/s]\n"
          ]
        },
        {
          "name": "stdout",
          "output_type": "stream",
          "text": [
            "Epoch 43/50, Loss: 0.9171\n",
            "Your trained model at epoch 42 is saved successfully!\n"
          ]
        },
        {
          "name": "stderr",
          "output_type": "stream",
          "text": [
            "Epoch 44/50: 100%|██████████| 26/26 [00:00<00:00, 37.17it/s]\n"
          ]
        },
        {
          "name": "stdout",
          "output_type": "stream",
          "text": [
            "Epoch 44/50, Loss: 0.8950\n",
            "Your trained model at epoch 43 is saved successfully!\n"
          ]
        },
        {
          "name": "stderr",
          "output_type": "stream",
          "text": [
            "Epoch 45/50: 100%|██████████| 26/26 [00:00<00:00, 36.54it/s]\n"
          ]
        },
        {
          "name": "stdout",
          "output_type": "stream",
          "text": [
            "Epoch 45/50, Loss: 0.8724\n",
            "Your trained model at epoch 44 is saved successfully!\n"
          ]
        },
        {
          "name": "stderr",
          "output_type": "stream",
          "text": [
            "Epoch 46/50: 100%|██████████| 26/26 [00:00<00:00, 36.92it/s]\n"
          ]
        },
        {
          "name": "stdout",
          "output_type": "stream",
          "text": [
            "Epoch 46/50, Loss: 0.8472\n",
            "Your trained model at epoch 45 is saved successfully!\n"
          ]
        },
        {
          "name": "stderr",
          "output_type": "stream",
          "text": [
            "Epoch 47/50: 100%|██████████| 26/26 [00:00<00:00, 36.69it/s]\n"
          ]
        },
        {
          "name": "stdout",
          "output_type": "stream",
          "text": [
            "Epoch 47/50, Loss: 0.8232\n",
            "Your trained model at epoch 46 is saved successfully!\n"
          ]
        },
        {
          "name": "stderr",
          "output_type": "stream",
          "text": [
            "Epoch 48/50: 100%|██████████| 26/26 [00:00<00:00, 36.72it/s]\n"
          ]
        },
        {
          "name": "stdout",
          "output_type": "stream",
          "text": [
            "Epoch 48/50, Loss: 0.7997\n",
            "Your trained model at epoch 47 is saved successfully!\n"
          ]
        },
        {
          "name": "stderr",
          "output_type": "stream",
          "text": [
            "Epoch 49/50: 100%|██████████| 26/26 [00:00<00:00, 36.83it/s]\n"
          ]
        },
        {
          "name": "stdout",
          "output_type": "stream",
          "text": [
            "Epoch 49/50, Loss: 0.7729\n",
            "Your trained model at epoch 48 is saved successfully!\n"
          ]
        },
        {
          "name": "stderr",
          "output_type": "stream",
          "text": [
            "Epoch 50/50: 100%|██████████| 26/26 [00:00<00:00, 36.95it/s]"
          ]
        },
        {
          "name": "stdout",
          "output_type": "stream",
          "text": [
            "Epoch 50/50, Loss: 0.7489\n",
            "Your trained model at epoch 49 is saved successfully!\n"
          ]
        },
        {
          "name": "stderr",
          "output_type": "stream",
          "text": [
            "\n"
          ]
        }
      ],
      "source": [
        "num_epochs = 50 # Train for *at least* 50 epochs to meet the min loss of 0.99\n",
        "batch_size = 50\n",
        "seq_length=100\n",
        "step_size=100\n",
        "learning_rate=0.001\n",
        "if not skip_training:\n",
        "    loss = train(\n",
        "        model=model,\n",
        "        encoded_chars=encoded_chars,\n",
        "        vocab_size=vocab_size,\n",
        "        num_epochs=num_epochs,\n",
        "        batch_size=batch_size,\n",
        "        seq_length=seq_length,\n",
        "        step_size=step_size,\n",
        "        learning_rate=learning_rate,\n",
        "        save_path='best_model.pth'\n",
        "    )\n",
        "else:\n",
        "    model.load_state_dict(torch.load('best_model.pth', weights_only=False, map_location=device))\n",
        "    print('Loaded weights from your saved model successfully!')"
      ]
    },
    {
      "cell_type": "markdown",
      "id": "338fcf4c-4b13-466f-bb2a-9fc79d276910",
      "metadata": {
        "deletable": false,
        "editable": false,
        "id": "338fcf4c-4b13-466f-bb2a-9fc79d276910",
        "nbgrader": {
          "checksum": "5f4810bbcce1d9b751981d42d7cec2e3",
          "grade": false,
          "grade_id": "cell-2c5996453d5e58cb",
          "locked": true,
          "schema_version": 3,
          "solution": false,
          "task": false
        }
      },
      "source": [
        "### Step 6: Text Generation\n",
        "The `text_generation()` function will use a trained model to create new text based on a given starting string.\n",
        "\n",
        "In this process, the model becomes autoregressive by using its own predictions as inputs for the next steps. Starting with an initial string, the model produces characters one by one, feeding each newly generated character back into itself as input.\n",
        "\n",
        "\n",
        "1. Input start string:\n",
        "The function begins with a starting string, which is converted into a sequence of integers using the character-to-integer mapping.\n",
        "2. Generate text:\n",
        "The model will take this sequence as input, predict the next character, and add it to the text. This process is repeated for a specified number of characters `predict_len`.\n",
        "3. Output probabilities\n",
        "\n",
        "##### Steps to follow:\n",
        "1. One-Hot encoding: Apply one-hot encoding to the input sequence as you did in the training loop.\n",
        "\n",
        "2. Forward pass: Feed the one-hot encoded input through the model to obtain the output logits and the updated hidden state.\n",
        "\n",
        "3. Extract the last output: You only need the output from the **last time step** to predict the next character. Slice the output and get the last element along the sequence dimension. If you did the training well, the generated text should mostly include meaningful words.\n",
        "\n",
        "4. Temperature scaling: To control the randomness in prediction, divide the output logits by the temperature parameter. The temperature should be in range (0,1]. Higher temperatures produce more random text, while lower temperatures produce more predictable results. You can observe the variations in the generated text by experimenting with different temperature values."
      ]
    },
    {
      "cell_type": "code",
      "execution_count": 36,
      "id": "af09b58d-db73-438c-8146-2d3de3c7258c",
      "metadata": {
        "deletable": false,
        "id": "af09b58d-db73-438c-8146-2d3de3c7258c",
        "nbgrader": {
          "checksum": "f150ea2ef8cc1bf48f64175bcab64bd2",
          "grade": false,
          "grade_id": "cell-f6a72e59083bfbfb",
          "locked": false,
          "schema_version": 3,
          "solution": true,
          "task": false
        }
      },
      "outputs": [],
      "source": [
        "def generate_text(model, start_str, char_to_int, int_to_char, vocab_size, predict_len=100, temperature=1.0):\n",
        "    \"\"\"\n",
        "    Generate text using the trained model.\n",
        "\n",
        "    Arguments:\n",
        "    model -- Trained RNN model\n",
        "    start_str -- String to start generating from\n",
        "    char_to_int -- Dictionary mapping characters to integers\n",
        "    int_to_char -- Dictionary mapping integers back to characters\n",
        "    vocab_size -- Size of the vocabulary\n",
        "    predict_len -- Number of characters to generate\n",
        "    temperature -- Float controlling randomness in predictions (higher is more random)\n",
        "\n",
        "    Returns:\n",
        "    generated_text -- The generated text as a string\n",
        "    \"\"\"\n",
        "    model.eval()  # Set model to evaluation mode\n",
        "\n",
        "    # Encode the starting string\n",
        "    input_seq = [char_to_int[char] for char in start_str]\n",
        "    input_seq = torch.tensor(input_seq).long().to(device).unsqueeze(0)  # Add batch dimension\n",
        "\n",
        "    hidden = model.init_hidden(1)  # Batch size of 1 for generating text\n",
        "\n",
        "    generated_text = start_str\n",
        "\n",
        "    with torch.no_grad():  # inference\n",
        "        for _ in range(predict_len):\n",
        "\n",
        "            # Make sure to have consistent variable naming with the rest of the code\n",
        "            # YOUR CODE HERE\n",
        "            input_one_hot = F.one_hot(input_seq, num_classes=vocab_size).float()\n",
        "            output, hidden = model(input_one_hot, hidden)\n",
        "            output = output[:, -1, :]\n",
        "            output = output/temperature\n",
        "\n",
        "            # Convert output to probabilities using softmax\n",
        "            probabilities = F.softmax(output, dim=-1).detach().cpu().numpy()\n",
        "\n",
        "            # Randomly sample based on the output probabilities\n",
        "            next_char_index = np.random.choice(range(vocab_size), p=probabilities.ravel())\n",
        "\n",
        "            # Add the predicted character to the generated text\n",
        "            next_char = int_to_char[next_char_index]\n",
        "            generated_text += next_char\n",
        "\n",
        "            # Update the input sequence - shift left to preserve the input length and add the new character\n",
        "            input_seq = torch.cat([input_seq[:, 1:], torch.tensor([[next_char_index]]).to(device)], dim=1)\n",
        "\n",
        "    return generated_text"
      ]
    },
    {
      "cell_type": "code",
      "execution_count": 37,
      "id": "cad2f2ef-fd10-484e-9824-aa90c90b1884",
      "metadata": {
        "colab": {
          "base_uri": "https://localhost:8080/"
        },
        "id": "cad2f2ef-fd10-484e-9824-aa90c90b1884",
        "outputId": "5c4d2d5c-52ca-45e0-9d68-0ccda874328c"
      },
      "outputs": [
        {
          "name": "stdout",
          "output_type": "stream",
          "text": [
            "we re all this time the mock turtle to say what it was over alice was the white rabbit i shan t be sure they had the other i wish i hould the mock turtle its head in a low that she went to she said the gryphon in the sea the thimble sne felt a great said the queen with from one hen i beg your have my sixe aloog the mock turtle to see if she could not all the name with the mock turtle sort of the ground and the whiter alice could not know alice looking at the far he tring and she were thing said alice that s very curious crieg the queen way it s got in another mouth and you know the cat s had found its mouth and you may not said the hatter looking about in a courtere the queen who was the began alice thought and the two me the look of in the sea she thought and began and the garden who said the hatter looking again the king said alice that the white rabbit is the fan a rage of the dormouse thought the moral of the regenting there the gryphon in the sea sho thought and i don t know whe had never t\n"
          ]
        }
      ],
      "source": [
        "start_str = 'we re all '\n",
        "predict_len = 1000\n",
        "temperature = 0.5\n",
        "generated_text = generate_text(model,\n",
        "                               start_str,\n",
        "                               char_to_int,\n",
        "                               int_to_char,\n",
        "                               vocab_size,\n",
        "                               predict_len=predict_len,\n",
        "                               temperature=temperature)\n",
        "print(generated_text)"
      ]
    }
  ],
  "metadata": {
    "accelerator": "GPU",
    "colab": {
      "gpuType": "T4",
      "provenance": []
    },
    "kernelspec": {
      "display_name": "Python 3 (ipykernel)",
      "language": "python",
      "name": "python3"
    },
    "language_info": {
      "codemirror_mode": {
        "name": "ipython",
        "version": 3
      },
      "file_extension": ".py",
      "mimetype": "text/x-python",
      "name": "python",
      "nbconvert_exporter": "python",
      "pygments_lexer": "ipython3",
      "version": "3.11.10"
    }
  },
  "nbformat": 4,
  "nbformat_minor": 5
}
